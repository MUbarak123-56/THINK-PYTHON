{
    "cells": [
        {
            "metadata": {
                "collapsed": true
            },
            "cell_type": "markdown",
            "source": "# INHERITANCE"
        },
        {
            "metadata": {},
            "cell_type": "markdown",
            "source": "### CARD OBJECTS"
        },
        {
            "metadata": {},
            "cell_type": "code",
            "source": "class Card: \n    \"\"\"Represents a standard playing card.\"\"\"\n    def __init__(self, suit=0, rank=2):\n        self.suit = suit \n        self.rank = rank",
            "execution_count": 1,
            "outputs": []
        },
        {
            "metadata": {},
            "cell_type": "code",
            "source": "queen_of_diamonds = Card(1,12)",
            "execution_count": 2,
            "outputs": []
        },
        {
            "metadata": {},
            "cell_type": "markdown",
            "source": "### CLASS ATTRIBUTES"
        },
        {
            "metadata": {},
            "cell_type": "code",
            "source": "class Card: \n    \"\"\"Represents a standard playing card.\"\"\"\n    suit_names = ['Clubs', 'Diamonds', 'Hearts', 'Spades'] \n    rank_names = [None, 'Ace', '2', '3', '4', '5', '6', '7', '8', '9', '10', 'Jack', 'Queen', 'King'] ## suit_names and rank_names are class attributes\n    def __init__(self, suit=0, rank=2):\n        self.suit = suit \n        self.rank = rank\n    def __str__(self): \n        return '%s of %s' % (Card.rank_names[self.rank], Card.suit_names[self.suit]) ",
            "execution_count": 3,
            "outputs": []
        },
        {
            "metadata": {},
            "cell_type": "code",
            "source": "queen_of_diamonds = Card(1,12)\nprint(queen_of_diamonds)",
            "execution_count": 5,
            "outputs": [
                {
                    "output_type": "stream",
                    "text": "Queen of Diamonds\n",
                    "name": "stdout"
                }
            ]
        },
        {
            "metadata": {},
            "cell_type": "markdown",
            "source": "### COMPARING CARDS"
        },
        {
            "metadata": {},
            "cell_type": "code",
            "source": "class Card: \n    \"\"\"Represents a standard playing card.\"\"\"\n    suit_names = ['Clubs', 'Diamonds', 'Hearts', 'Spades'] \n    rank_names = [None, 'Ace', '2', '3', '4', '5', '6', '7', '8', '9', '10', 'Jack', 'Queen', 'King'] ## suit_names and rank_names are class attributes\n    def __init__(self, suit=0, rank=2):\n        self.suit = suit \n        self.rank = rank\n    def __str__(self): \n        return '%s of %s' % (Card.rank_names[self.rank], Card.suit_names[self.suit]) \n\n    def __lt__(self, other): # check the suits \n        t1 = self.suit, self.rank \n        t2 = other.suit, other.rank \n        return t1 < t2 ",
            "execution_count": 8,
            "outputs": []
        },
        {
            "metadata": {},
            "cell_type": "markdown",
            "source": "### DECKS"
        },
        {
            "metadata": {},
            "cell_type": "code",
            "source": "class Deck:\n    def __init__(self): \n        self.cards = [] \n        for suit in range(4): \n            for rank in range(1, 14): \n                card = Card(suit, rank) \n                self.cards.append(card)\n    def __str__(self): \n        res = []\n        for card in self.cards: \n            res.append(str(card)) \n        return '\\n'.join(res)",
            "execution_count": 9,
            "outputs": []
        },
        {
            "metadata": {},
            "cell_type": "code",
            "source": "deck = Deck()\nprint(deck)",
            "execution_count": 10,
            "outputs": [
                {
                    "output_type": "stream",
                    "text": "Ace of Clubs\n2 of Clubs\n3 of Clubs\n4 of Clubs\n5 of Clubs\n6 of Clubs\n7 of Clubs\n8 of Clubs\n9 of Clubs\n10 of Clubs\nJack of Clubs\nQueen of Clubs\nKing of Clubs\nAce of Diamonds\n2 of Diamonds\n3 of Diamonds\n4 of Diamonds\n5 of Diamonds\n6 of Diamonds\n7 of Diamonds\n8 of Diamonds\n9 of Diamonds\n10 of Diamonds\nJack of Diamonds\nQueen of Diamonds\nKing of Diamonds\nAce of Hearts\n2 of Hearts\n3 of Hearts\n4 of Hearts\n5 of Hearts\n6 of Hearts\n7 of Hearts\n8 of Hearts\n9 of Hearts\n10 of Hearts\nJack of Hearts\nQueen of Hearts\nKing of Hearts\nAce of Spades\n2 of Spades\n3 of Spades\n4 of Spades\n5 of Spades\n6 of Spades\n7 of Spades\n8 of Spades\n9 of Spades\n10 of Spades\nJack of Spades\nQueen of Spades\nKing of Spades\n",
                    "name": "stdout"
                }
            ]
        },
        {
            "metadata": {},
            "cell_type": "markdown",
            "source": "### ADD, REMOVE, SHUFFLE AND SORT"
        },
        {
            "metadata": {},
            "cell_type": "code",
            "source": "import random\nclass Deck:\n    def __init__(self): \n        self.cards = [] \n        for suit in range(4): \n            for rank in range(1, 14): \n                card = Card(suit, rank) \n                self.cards.append(card)\n    def __str__(self): \n        res = []\n        for card in self.cards: \n            res.append(str(card)) \n        return '\\n'.join(res)\n    def pop_card(self): \n        return self.cards.pop()\n    def add_card(self, card): \n        self.cards.append(card) \n    def shuffle(self): \n        random.shuffle(self.cards)\n    def move_cards(self, hand, num): \n        for i in range(num): \n            hand.add_card(self.pop_card()) ",
            "execution_count": 11,
            "outputs": []
        },
        {
            "metadata": {},
            "cell_type": "markdown",
            "source": "### INHERITANCE"
        },
        {
            "metadata": {},
            "cell_type": "code",
            "source": "class Hand(Deck): ## A new class that inherits an existing class is called a child. The existing card is called a parent.\n    \"\"\"Represents a hand of playing cards.\"\"\" \n    def __init__(self, label=''): \n        self.cards = [] \n        self.label = label",
            "execution_count": 12,
            "outputs": []
        },
        {
            "metadata": {},
            "cell_type": "code",
            "source": "hand = Hand('new hand')\nhand.cards",
            "execution_count": 13,
            "outputs": [
                {
                    "output_type": "execute_result",
                    "execution_count": 13,
                    "data": {
                        "text/plain": "[]"
                    },
                    "metadata": {}
                }
            ]
        },
        {
            "metadata": {},
            "cell_type": "code",
            "source": "hand.label",
            "execution_count": 14,
            "outputs": [
                {
                    "output_type": "execute_result",
                    "execution_count": 14,
                    "data": {
                        "text/plain": "'new hand'"
                    },
                    "metadata": {}
                }
            ]
        },
        {
            "metadata": {},
            "cell_type": "code",
            "source": "deck = Deck()",
            "execution_count": 15,
            "outputs": []
        },
        {
            "metadata": {},
            "cell_type": "code",
            "source": "card = deck.pop_card() \nhand.add_card(card)\nprint(hand) ",
            "execution_count": 16,
            "outputs": [
                {
                    "output_type": "stream",
                    "text": "King of Spades\n",
                    "name": "stdout"
                }
            ]
        },
        {
            "metadata": {},
            "cell_type": "code",
            "source": "",
            "execution_count": null,
            "outputs": []
        }
    ],
    "metadata": {
        "kernelspec": {
            "name": "python3",
            "display_name": "Python 3.6",
            "language": "python"
        },
        "language_info": {
            "name": "python",
            "version": "3.6.9",
            "mimetype": "text/x-python",
            "codemirror_mode": {
                "name": "ipython",
                "version": 3
            },
            "pygments_lexer": "ipython3",
            "nbconvert_exporter": "python",
            "file_extension": ".py"
        }
    },
    "nbformat": 4,
    "nbformat_minor": 1
}