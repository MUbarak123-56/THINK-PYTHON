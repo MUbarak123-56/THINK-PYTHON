{
    "cells": [
        {
            "metadata": {
                "collapsed": true
            },
            "cell_type": "markdown",
            "source": "# FRUITFUL FUNCTIONS"
        },
        {
            "metadata": {},
            "cell_type": "code",
            "source": "def area(radius): \n    a = math.pi * radius**2 \n    return a   ## return makes a void function fruitful",
            "execution_count": 1,
            "outputs": []
        },
        {
            "metadata": {},
            "cell_type": "code",
            "source": "import math\ndef area(radius): \n    return math.pi * radius**2 \narea(6)",
            "execution_count": 3,
            "outputs": [
                {
                    "output_type": "execute_result",
                    "execution_count": 3,
                    "data": {
                        "text/plain": "113.09733552923255"
                    },
                    "metadata": {}
                }
            ]
        },
        {
            "metadata": {},
            "cell_type": "code",
            "source": "def absolute_value(x): \n    if x < 0: \n        return -x \n    else: \n        return x\nabsolute_value(-221)",
            "execution_count": 6,
            "outputs": [
                {
                    "output_type": "execute_result",
                    "execution_count": 6,
                    "data": {
                        "text/plain": "221"
                    },
                    "metadata": {}
                }
            ]
        },
        {
            "metadata": {},
            "cell_type": "code",
            "source": "## A better way of doing it\ndef absolute_value(x): \n    if x < 0: \n        return -x \n    if x > 0:\n        return x ",
            "execution_count": 7,
            "outputs": []
        },
        {
            "metadata": {},
            "cell_type": "code",
            "source": "print(absolute_value(0))",
            "execution_count": 8,
            "outputs": [
                {
                    "output_type": "stream",
                    "text": "None\n",
                    "name": "stdout"
                }
            ]
        },
        {
            "metadata": {},
            "cell_type": "code",
            "source": "def distance(x1,y1,x2,y2):\n    dx = x2 - x1\n    dy = y2 - y1\n    dsquared = dx**2 + dy**2\n    result = math.sqrt(dsquared)\n    return result\ndistance(2,3,4,5)",
            "execution_count": 9,
            "outputs": [
                {
                    "output_type": "execute_result",
                    "execution_count": 9,
                    "data": {
                        "text/plain": "2.8284271247461903"
                    },
                    "metadata": {}
                }
            ]
        },
        {
            "metadata": {},
            "cell_type": "markdown",
            "source": "### COMPOSITION"
        },
        {
            "metadata": {},
            "cell_type": "code",
            "source": "def circle_area(xc, yc, xp, yp):\n    radius = distance(xc,yc,xp,yp)\n    result = area(radius)\n    return result",
            "execution_count": 10,
            "outputs": []
        },
        {
            "metadata": {},
            "cell_type": "code",
            "source": "def circle_area(xc,yc,xp,yp):\n    return area(distance(xc,yc,xp,yp))\ncircle_area(1,2,3,4)",
            "execution_count": 11,
            "outputs": [
                {
                    "output_type": "execute_result",
                    "execution_count": 11,
                    "data": {
                        "text/plain": "25.132741228718352"
                    },
                    "metadata": {}
                }
            ]
        },
        {
            "metadata": {},
            "cell_type": "markdown",
            "source": "### BOOLEAN FUNCTIONS"
        },
        {
            "metadata": {},
            "cell_type": "code",
            "source": "def is_divisible(x, y): \n    if x % y == 0: \n        return True \n    else: \n        return False\n\nis_divisible(10,2)",
            "execution_count": 13,
            "outputs": [
                {
                    "output_type": "execute_result",
                    "execution_count": 13,
                    "data": {
                        "text/plain": "True"
                    },
                    "metadata": {}
                }
            ]
        },
        {
            "metadata": {},
            "cell_type": "code",
            "source": "if is_divisible(10, 2) == True: \n        print('x is divisible by y')",
            "execution_count": 16,
            "outputs": [
                {
                    "output_type": "stream",
                    "text": "x is divisible by y\n",
                    "name": "stdout"
                }
            ]
        },
        {
            "metadata": {},
            "cell_type": "code",
            "source": "def factorial(n): \n    if n == 0: \n        return 1 \n    else: \n        recurse = factorial(n-1)\n        result = n * recurse \n        return result\nfactorial(6)",
            "execution_count": 18,
            "outputs": [
                {
                    "output_type": "execute_result",
                    "execution_count": 18,
                    "data": {
                        "text/plain": "720"
                    },
                    "metadata": {}
                }
            ]
        },
        {
            "metadata": {},
            "cell_type": "code",
            "source": "def fibonacci(n): \n    if n == 0: \n        return 0 \n    elif n == 1: \n        return 1 \n    else: \n        return fibonacci(n-1) + fibonacci(n-2) \nfibonacci(7)",
            "execution_count": 24,
            "outputs": [
                {
                    "output_type": "execute_result",
                    "execution_count": 24,
                    "data": {
                        "text/plain": "13"
                    },
                    "metadata": {}
                }
            ]
        },
        {
            "metadata": {},
            "cell_type": "code",
            "source": "def factorial(n): \n    if not isinstance(n, int): \n        print('Factorial is only defined for integers.') \n        return None \n    elif n < 0: \n        print('Factorial is not defined for negative integers.')\n        return None \n    elif n == 0: \n        return 1\n    else: \n        return n * factorial(n-1)",
            "execution_count": 26,
            "outputs": []
        },
        {
            "metadata": {},
            "cell_type": "code",
            "source": "factorial(2)",
            "execution_count": 27,
            "outputs": [
                {
                    "output_type": "execute_result",
                    "execution_count": 27,
                    "data": {
                        "text/plain": "2"
                    },
                    "metadata": {}
                }
            ]
        },
        {
            "metadata": {},
            "cell_type": "code",
            "source": "factorial(-2)",
            "execution_count": 28,
            "outputs": [
                {
                    "output_type": "stream",
                    "text": "Factorial is not defined for negative integers.\n",
                    "name": "stdout"
                }
            ]
        },
        {
            "metadata": {},
            "cell_type": "code",
            "source": "factorial('sam')",
            "execution_count": 29,
            "outputs": [
                {
                    "output_type": "stream",
                    "text": "Factorial is only defined for integers.\n",
                    "name": "stdout"
                }
            ]
        },
        {
            "metadata": {},
            "cell_type": "code",
            "source": "factorial(6)",
            "execution_count": 30,
            "outputs": [
                {
                    "output_type": "execute_result",
                    "execution_count": 30,
                    "data": {
                        "text/plain": "720"
                    },
                    "metadata": {}
                }
            ]
        },
        {
            "metadata": {},
            "cell_type": "markdown",
            "source": "## ASSIGNMENT"
        },
        {
            "metadata": {},
            "cell_type": "code",
            "source": "def b(z):\n    prod = a(z, z) \n    print(z, prod) \n    return prod\ndef a(x, y):\n    x = x + 1 \n    return x * y\ndef c(x, y, z): \n    total = x + y + z \n    square = b(total)**2 \n    return square\nx = 1 \ny = x + 1 \nprint(c(x, y+3, x+y)) ",
            "execution_count": 31,
            "outputs": [
                {
                    "output_type": "stream",
                    "text": "9 90\n8100\n",
                    "name": "stdout"
                }
            ]
        },
        {
            "metadata": {},
            "cell_type": "code",
            "source": "def ack(m,n):\n    if (m == 0):\n        return n + 1\n    elif (m > 0 and n==0):\n        return ack(m-1,1)\n    elif (m > 0 and n > 0):\n        return ack(m-1,ack(m,n-1))\nack(3,4)",
            "execution_count": 38,
            "outputs": [
                {
                    "output_type": "execute_result",
                    "execution_count": 38,
                    "data": {
                        "text/plain": "125"
                    },
                    "metadata": {}
                }
            ]
        },
        {
            "metadata": {},
            "cell_type": "code",
            "source": "def is_power(a,b):\n    if(a%b == 0 and b**(a/b) == int(b**(a/b))):\n        return True\n    else:\n        return False\nis_power(10,2)",
            "execution_count": 42,
            "outputs": [
                {
                    "output_type": "execute_result",
                    "execution_count": 42,
                    "data": {
                        "text/plain": "True"
                    },
                    "metadata": {}
                }
            ]
        },
        {
            "metadata": {},
            "cell_type": "markdown",
            "source": "### GREATEST COMMON DIVISOR"
        },
        {
            "metadata": {},
            "cell_type": "code",
            "source": "def gcd(a,b):\n    if (a == 0):\n        return b\n    if (b == 0):\n        return a\n    if (a > b):\n        r = a%b\n        r1 = gcd(b,r)\n    elif (b > a):\n        r = b%a\n        r1 = gcd(a,r)\n    return r1\ngcd(20,35)",
            "execution_count": 57,
            "outputs": [
                {
                    "output_type": "execute_result",
                    "execution_count": 57,
                    "data": {
                        "text/plain": "5"
                    },
                    "metadata": {}
                }
            ]
        },
        {
            "metadata": {},
            "cell_type": "code",
            "source": "",
            "execution_count": null,
            "outputs": []
        }
    ],
    "metadata": {
        "kernelspec": {
            "name": "python3",
            "display_name": "Python 3.6",
            "language": "python"
        },
        "language_info": {
            "name": "python",
            "version": "3.6.9",
            "mimetype": "text/x-python",
            "codemirror_mode": {
                "name": "ipython",
                "version": 3
            },
            "pygments_lexer": "ipython3",
            "nbconvert_exporter": "python",
            "file_extension": ".py"
        }
    },
    "nbformat": 4,
    "nbformat_minor": 1
}