{
    "cells": [
        {
            "metadata": {
                "collapsed": true
            },
            "cell_type": "markdown",
            "source": "# THE GOODIES"
        },
        {
            "metadata": {},
            "cell_type": "markdown",
            "source": "### CONDITIONAL EXPRESSIONS"
        },
        {
            "metadata": {},
            "cell_type": "code",
            "source": "import math\nx = int(input())\nif x > 0: \n    y = math.log(x) \nelse: \n    y = float('nan')\nprint(y)",
            "execution_count": 2,
            "outputs": [
                {
                    "output_type": "stream",
                    "name": "stdout",
                    "text": "5\n1.6094379124341003\n"
                }
            ]
        },
        {
            "metadata": {},
            "cell_type": "code",
            "source": "## re-writing the conditional expression\ny = math.log(x) if x > 0 else float('nan')",
            "execution_count": 3,
            "outputs": []
        },
        {
            "metadata": {},
            "cell_type": "code",
            "source": "def factorial(n): \n    if n == 0: \n        return 1\n    else:\n        return n * factorial(n-1)",
            "execution_count": 4,
            "outputs": []
        },
        {
            "metadata": {},
            "cell_type": "code",
            "source": "## re-writing the previous function\ndef factorial(n): \n    return 1 if n == 0 else n * factorial(n-1)",
            "execution_count": 5,
            "outputs": []
        },
        {
            "metadata": {},
            "cell_type": "code",
            "source": "def __init__(self, name, contents=None): \n    self.name = name \n    if contents == None: \n        contents = [] \n    self.pouch_contents = contents ",
            "execution_count": 6,
            "outputs": []
        },
        {
            "metadata": {},
            "cell_type": "code",
            "source": "## re-writing the previous function\ndef __init__(self, name, contents=None): \n    self.name = name \n    self.pouch_contents = [] if contents == None else contents",
            "execution_count": 7,
            "outputs": []
        },
        {
            "metadata": {},
            "cell_type": "markdown",
            "source": "### LIST COMPREHENSION"
        },
        {
            "metadata": {},
            "cell_type": "code",
            "source": "def capitalize_all(t): \n    res = [] \n    for s in t: \n        res.append(s.capitalize())\n    return res",
            "execution_count": 8,
            "outputs": []
        },
        {
            "metadata": {},
            "cell_type": "code",
            "source": "## re-writing the previous function\ndef capitalize_all(t): \n    return [s.capitalize() for s in t]",
            "execution_count": 9,
            "outputs": []
        },
        {
            "metadata": {},
            "cell_type": "code",
            "source": "def only_upper(t): \n    res = [] \n    for s in t: \n        if s.isupper(): \n            res.append(s)\n    return res",
            "execution_count": 10,
            "outputs": []
        },
        {
            "metadata": {},
            "cell_type": "code",
            "source": "## re-writing the previous function\ndef only_upper(t): \n    return [s for s in t if s.isupper()] ",
            "execution_count": 11,
            "outputs": []
        },
        {
            "metadata": {},
            "cell_type": "markdown",
            "source": "### GENERATOR EXPRESSIONS"
        },
        {
            "metadata": {},
            "cell_type": "code",
            "source": "g = (x**2 for x in range(5))\ng",
            "execution_count": 12,
            "outputs": [
                {
                    "output_type": "execute_result",
                    "execution_count": 12,
                    "data": {
                        "text/plain": "<generator object <genexpr> at 0x7f3638affd58>"
                    },
                    "metadata": {}
                }
            ]
        },
        {
            "metadata": {},
            "cell_type": "code",
            "source": "next(g)",
            "execution_count": 13,
            "outputs": [
                {
                    "output_type": "execute_result",
                    "execution_count": 13,
                    "data": {
                        "text/plain": "0"
                    },
                    "metadata": {}
                }
            ]
        },
        {
            "metadata": {},
            "cell_type": "code",
            "source": "next(g)",
            "execution_count": 14,
            "outputs": [
                {
                    "output_type": "execute_result",
                    "execution_count": 14,
                    "data": {
                        "text/plain": "1"
                    },
                    "metadata": {}
                }
            ]
        },
        {
            "metadata": {},
            "cell_type": "code",
            "source": "for val in g: \n    print(val) ",
            "execution_count": 15,
            "outputs": [
                {
                    "output_type": "stream",
                    "text": "4\n9\n16\n",
                    "name": "stdout"
                }
            ]
        },
        {
            "metadata": {},
            "cell_type": "code",
            "source": "next(g)",
            "execution_count": 16,
            "outputs": [
                {
                    "output_type": "error",
                    "ename": "StopIteration",
                    "evalue": "",
                    "traceback": [
                        "\u001b[0;31m---------------------------------------------------------------------------\u001b[0m",
                        "\u001b[0;31mStopIteration\u001b[0m                             Traceback (most recent call last)",
                        "\u001b[0;32m<ipython-input-16-e734f8aca5ac>\u001b[0m in \u001b[0;36m<module>\u001b[0;34m\u001b[0m\n\u001b[0;32m----> 1\u001b[0;31m \u001b[0mnext\u001b[0m\u001b[0;34m(\u001b[0m\u001b[0mg\u001b[0m\u001b[0;34m)\u001b[0m\u001b[0;34m\u001b[0m\u001b[0;34m\u001b[0m\u001b[0m\n\u001b[0m",
                        "\u001b[0;31mStopIteration\u001b[0m: "
                    ]
                }
            ]
        },
        {
            "metadata": {},
            "cell_type": "code",
            "source": "sum(x**2 for x in range(5))",
            "execution_count": 17,
            "outputs": [
                {
                    "output_type": "execute_result",
                    "execution_count": 17,
                    "data": {
                        "text/plain": "30"
                    },
                    "metadata": {}
                }
            ]
        },
        {
            "metadata": {},
            "cell_type": "markdown",
            "source": "### ANY AND ALL"
        },
        {
            "metadata": {},
            "cell_type": "code",
            "source": "any([False, False, True])",
            "execution_count": 18,
            "outputs": [
                {
                    "output_type": "execute_result",
                    "execution_count": 18,
                    "data": {
                        "text/plain": "True"
                    },
                    "metadata": {}
                }
            ]
        },
        {
            "metadata": {},
            "cell_type": "code",
            "source": "any(letter == 't' for letter in 'monty')",
            "execution_count": 19,
            "outputs": [
                {
                    "output_type": "execute_result",
                    "execution_count": 19,
                    "data": {
                        "text/plain": "True"
                    },
                    "metadata": {}
                }
            ]
        },
        {
            "metadata": {},
            "cell_type": "code",
            "source": "def avoids(word, forbidden): \n    return not any(letter in forbidden for letter in word)",
            "execution_count": 20,
            "outputs": []
        },
        {
            "metadata": {},
            "cell_type": "markdown",
            "source": "### SETS"
        },
        {
            "metadata": {},
            "cell_type": "code",
            "source": "def subtract(d1, d2): \n    res = dict() \n    for key in d1: \n        if key not in d2: \n            res[key] = None \n    return res ",
            "execution_count": 21,
            "outputs": []
        },
        {
            "metadata": {},
            "cell_type": "code",
            "source": "## re-writing the previous function\ndef subtract(d1, d2): \n    return set(d1) - set(d2)",
            "execution_count": 22,
            "outputs": []
        },
        {
            "metadata": {},
            "cell_type": "code",
            "source": "def has_duplicates(t): \n    d = {} \n    for x in t: \n        if x in d: \n            return True\n        d[x] = True \n    return False ",
            "execution_count": 23,
            "outputs": []
        },
        {
            "metadata": {},
            "cell_type": "code",
            "source": "## re-writing the previous function\ndef has_duplicates(t): \n    return len(set(t)) < len(t) ",
            "execution_count": 25,
            "outputs": []
        },
        {
            "metadata": {},
            "cell_type": "code",
            "source": "def uses_only(word, available): \n    for letter in word: \n        if letter not in available: \n            return False \n    return True ",
            "execution_count": 26,
            "outputs": []
        },
        {
            "metadata": {},
            "cell_type": "code",
            "source": "## re-writing the previous function\ndef uses_only(word, available): \n    return set(word) <= set(available) ",
            "execution_count": 27,
            "outputs": []
        },
        {
            "metadata": {},
            "cell_type": "markdown",
            "source": "### COUNTERS"
        },
        {
            "metadata": {},
            "cell_type": "code",
            "source": "## Counter is a simpler format for counting letter frequencies\nfrom collections import Counter\ncount = Counter('parrot') \ncount",
            "execution_count": 28,
            "outputs": [
                {
                    "output_type": "execute_result",
                    "execution_count": 28,
                    "data": {
                        "text/plain": "Counter({'p': 1, 'a': 1, 'r': 2, 'o': 1, 't': 1})"
                    },
                    "metadata": {}
                }
            ]
        },
        {
            "metadata": {},
            "cell_type": "code",
            "source": "count['d']",
            "execution_count": 29,
            "outputs": [
                {
                    "output_type": "execute_result",
                    "execution_count": 29,
                    "data": {
                        "text/plain": "0"
                    },
                    "metadata": {}
                }
            ]
        },
        {
            "metadata": {},
            "cell_type": "code",
            "source": "def is_anagram(word1, word2): \n    return Counter(word1) == Counter(word2)",
            "execution_count": 30,
            "outputs": []
        },
        {
            "metadata": {},
            "cell_type": "code",
            "source": "count = Counter('parrot')\nfor val, freq in count.most_common(3): \n    print(val, freq)",
            "execution_count": 31,
            "outputs": [
                {
                    "output_type": "stream",
                    "text": "r 2\np 1\na 1\n",
                    "name": "stdout"
                }
            ]
        },
        {
            "metadata": {},
            "cell_type": "markdown",
            "source": "### DEFAULTDICT"
        },
        {
            "metadata": {},
            "cell_type": "code",
            "source": "from collections import defaultdict\nd = defaultdict(list)\nt = d['new key'] \nt ",
            "execution_count": 32,
            "outputs": [
                {
                    "output_type": "execute_result",
                    "execution_count": 32,
                    "data": {
                        "text/plain": "[]"
                    },
                    "metadata": {}
                }
            ]
        },
        {
            "metadata": {},
            "cell_type": "code",
            "source": "t.append('new value') \nd",
            "execution_count": 33,
            "outputs": [
                {
                    "output_type": "execute_result",
                    "execution_count": 33,
                    "data": {
                        "text/plain": "defaultdict(list, {'new key': ['new value']})"
                    },
                    "metadata": {}
                }
            ]
        },
        {
            "metadata": {},
            "cell_type": "code",
            "source": "def all_anagrams(filename): \n    d = {} \n    for line in open(filename): \n        word = line.strip().lower() \n        t = signature(word) \n        if t not in d: \n            d[t] = [word] \n        else: \n            d[t].append(word) \n    return d",
            "execution_count": 34,
            "outputs": []
        },
        {
            "metadata": {},
            "cell_type": "code",
            "source": "def all_anagrams(filename): \n    d = {} \n    for line in open(filename): \n        word = line.strip().lower() \n        t = signature(word) \n        d.setdefault(t, []).append(word) \n    return d",
            "execution_count": 35,
            "outputs": []
        },
        {
            "metadata": {},
            "cell_type": "code",
            "source": "def all_anagrams(filename): \n    d = defaultdict(list) \n    for line in open(filename): \n        word = line.strip().lower() \n        t = signature(word) \n        d[t].append(word) \n    return d ",
            "execution_count": 36,
            "outputs": []
        },
        {
            "metadata": {},
            "cell_type": "markdown",
            "source": "### NAMED TUPLES"
        },
        {
            "metadata": {},
            "cell_type": "code",
            "source": "class Point:\n    def __init__(self, x=0, y=0): \n        self.x = x \n        self.y = y\n    def __str__(self): \n        return '(%g, %g)' % (self.x, self.y)",
            "execution_count": 37,
            "outputs": []
        },
        {
            "metadata": {},
            "cell_type": "code",
            "source": "## A simpler method for writing the class above\nfrom collections import namedtuple \nPoints = namedtuple('Point', ['x', 'y']) ",
            "execution_count": 40,
            "outputs": []
        },
        {
            "metadata": {},
            "cell_type": "code",
            "source": "Points",
            "execution_count": 41,
            "outputs": [
                {
                    "output_type": "execute_result",
                    "execution_count": 41,
                    "data": {
                        "text/plain": "__main__.Point"
                    },
                    "metadata": {}
                }
            ]
        },
        {
            "metadata": {},
            "cell_type": "code",
            "source": "p = Point(1, 2)\np",
            "execution_count": 43,
            "outputs": [
                {
                    "output_type": "execute_result",
                    "execution_count": 43,
                    "data": {
                        "text/plain": "Point(x=1, y=2)"
                    },
                    "metadata": {}
                }
            ]
        },
        {
            "metadata": {},
            "cell_type": "code",
            "source": "p.x, p.y ",
            "execution_count": 44,
            "outputs": [
                {
                    "output_type": "execute_result",
                    "execution_count": 44,
                    "data": {
                        "text/plain": "(1, 2)"
                    },
                    "metadata": {}
                }
            ]
        },
        {
            "metadata": {},
            "cell_type": "code",
            "source": "p[0], p[1] ",
            "execution_count": 45,
            "outputs": [
                {
                    "output_type": "execute_result",
                    "execution_count": 45,
                    "data": {
                        "text/plain": "(1, 2)"
                    },
                    "metadata": {}
                }
            ]
        },
        {
            "metadata": {},
            "cell_type": "code",
            "source": "x, y = p \nx, y",
            "execution_count": 46,
            "outputs": [
                {
                    "output_type": "execute_result",
                    "execution_count": 46,
                    "data": {
                        "text/plain": "(1, 2)"
                    },
                    "metadata": {}
                }
            ]
        },
        {
            "metadata": {},
            "cell_type": "markdown",
            "source": "### GATHERING KEYWORD ARGS"
        },
        {
            "metadata": {},
            "cell_type": "code",
            "source": "def printall(*args): \n    print(args)",
            "execution_count": 50,
            "outputs": []
        },
        {
            "metadata": {},
            "cell_type": "code",
            "source": "printall(1, 2.0, '3')",
            "execution_count": 51,
            "outputs": [
                {
                    "output_type": "stream",
                    "text": "(1, 2.0, '3')\n",
                    "name": "stdout"
                }
            ]
        },
        {
            "metadata": {},
            "cell_type": "code",
            "source": "printall(1, 2.0, third='3') ## but it does not work for keyword arguments",
            "execution_count": 52,
            "outputs": [
                {
                    "output_type": "error",
                    "ename": "TypeError",
                    "evalue": "printall() got an unexpected keyword argument 'third'",
                    "traceback": [
                        "\u001b[0;31m---------------------------------------------------------------------------\u001b[0m",
                        "\u001b[0;31mTypeError\u001b[0m                                 Traceback (most recent call last)",
                        "\u001b[0;32m<ipython-input-52-f1f48ec92142>\u001b[0m in \u001b[0;36m<module>\u001b[0;34m\u001b[0m\n\u001b[0;32m----> 1\u001b[0;31m \u001b[0mprintall\u001b[0m\u001b[0;34m(\u001b[0m\u001b[0;36m1\u001b[0m\u001b[0;34m,\u001b[0m \u001b[0;36m2.0\u001b[0m\u001b[0;34m,\u001b[0m \u001b[0mthird\u001b[0m\u001b[0;34m=\u001b[0m\u001b[0;34m'3'\u001b[0m\u001b[0;34m)\u001b[0m \u001b[0;31m## but it does not work for keyword arguments\u001b[0m\u001b[0;34m\u001b[0m\u001b[0;34m\u001b[0m\u001b[0m\n\u001b[0m",
                        "\u001b[0;31mTypeError\u001b[0m: printall() got an unexpected keyword argument 'third'"
                    ]
                }
            ]
        },
        {
            "metadata": {},
            "cell_type": "code",
            "source": "def printall(*args, **kwargs): \n    print(args, kwargs)",
            "execution_count": 55,
            "outputs": []
        },
        {
            "metadata": {},
            "cell_type": "code",
            "source": "printall(1, 2.0, third='3') ",
            "execution_count": 56,
            "outputs": [
                {
                    "output_type": "stream",
                    "text": "(1, 2.0) {'third': '3'}\n",
                    "name": "stdout"
                }
            ]
        },
        {
            "metadata": {},
            "cell_type": "code",
            "source": "d = dict(x=1, y=2) \nPoint(**d)",
            "execution_count": 57,
            "outputs": [
                {
                    "output_type": "execute_result",
                    "execution_count": 57,
                    "data": {
                        "text/plain": "Point(x=1, y=2)"
                    },
                    "metadata": {}
                }
            ]
        },
        {
            "metadata": {},
            "cell_type": "code",
            "source": "",
            "execution_count": null,
            "outputs": []
        },
        {
            "metadata": {},
            "cell_type": "code",
            "source": "",
            "execution_count": null,
            "outputs": []
        }
    ],
    "metadata": {
        "kernelspec": {
            "name": "python3",
            "display_name": "Python 3.6",
            "language": "python"
        },
        "language_info": {
            "name": "python",
            "version": "3.6.9",
            "mimetype": "text/x-python",
            "codemirror_mode": {
                "name": "ipython",
                "version": 3
            },
            "pygments_lexer": "ipython3",
            "nbconvert_exporter": "python",
            "file_extension": ".py"
        }
    },
    "nbformat": 4,
    "nbformat_minor": 1
}