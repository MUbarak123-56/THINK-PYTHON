{
    "cells": [
        {
            "metadata": {
                "collapsed": true
            },
            "cell_type": "markdown",
            "source": "# CLASSES AND OBJECTS"
        },
        {
            "metadata": {},
            "cell_type": "code",
            "source": "class Point: \n    \"\"\"Represents a point in 2-D space.\"\"\"",
            "execution_count": 1,
            "outputs": []
        },
        {
            "metadata": {},
            "cell_type": "code",
            "source": "Point",
            "execution_count": 2,
            "outputs": [
                {
                    "output_type": "execute_result",
                    "execution_count": 2,
                    "data": {
                        "text/plain": "__main__.Point"
                    },
                    "metadata": {}
                }
            ]
        },
        {
            "metadata": {},
            "cell_type": "code",
            "source": "blank = Point() ## creating an instance of the class which is an object\nblank",
            "execution_count": 3,
            "outputs": [
                {
                    "output_type": "execute_result",
                    "execution_count": 3,
                    "data": {
                        "text/plain": "<__main__.Point at 0x7fce7c3da400>"
                    },
                    "metadata": {}
                }
            ]
        },
        {
            "metadata": {},
            "cell_type": "markdown",
            "source": "### ATTRIBUTES"
        },
        {
            "metadata": {},
            "cell_type": "code",
            "source": "blank.x = 3.0\nblank.y = 4.0",
            "execution_count": 4,
            "outputs": []
        },
        {
            "metadata": {},
            "cell_type": "code",
            "source": "'(%g, %g)' % (blank.x, blank.y)",
            "execution_count": 5,
            "outputs": [
                {
                    "output_type": "execute_result",
                    "execution_count": 5,
                    "data": {
                        "text/plain": "'(3, 4)'"
                    },
                    "metadata": {}
                }
            ]
        },
        {
            "metadata": {},
            "cell_type": "code",
            "source": "import math\ndistance = math.sqrt(blank.x**2 + blank.y**2)\ndistance",
            "execution_count": 6,
            "outputs": [
                {
                    "output_type": "execute_result",
                    "execution_count": 6,
                    "data": {
                        "text/plain": "5.0"
                    },
                    "metadata": {}
                }
            ]
        },
        {
            "metadata": {},
            "cell_type": "code",
            "source": "def print_point(p): \n    print('(%g, %g)' % (p.x, p.y))",
            "execution_count": 7,
            "outputs": []
        },
        {
            "metadata": {},
            "cell_type": "code",
            "source": "print_point(blank)",
            "execution_count": 8,
            "outputs": [
                {
                    "output_type": "stream",
                    "text": "(3, 4)\n",
                    "name": "stdout"
                }
            ]
        },
        {
            "metadata": {},
            "cell_type": "markdown",
            "source": "### RECTANGLES"
        },
        {
            "metadata": {},
            "cell_type": "code",
            "source": "class Rectangle:\n    \"\"\"Represents a rectangle.\nattributes: width, height, corner. \"\"\" ",
            "execution_count": 9,
            "outputs": []
        },
        {
            "metadata": {},
            "cell_type": "code",
            "source": "box = Rectangle() \nbox.width = 100.0\nbox.height = 200.0 \nbox.corner = Point() \nbox.corner.x = 0.0 \nbox.corner.y = 0.0 ",
            "execution_count": 10,
            "outputs": []
        },
        {
            "metadata": {},
            "cell_type": "markdown",
            "source": "### INSTANCES AS RETURN VALUES"
        },
        {
            "metadata": {},
            "cell_type": "code",
            "source": "def find_center(rect): \n    p = Point() \n    p.x = rect.corner.x + rect.width/2 \n    p.y = rect.corner.y + rect.height/2 \n    return p ",
            "execution_count": 11,
            "outputs": []
        },
        {
            "metadata": {},
            "cell_type": "code",
            "source": "center = find_center(box) \nprint_point(center)",
            "execution_count": 12,
            "outputs": [
                {
                    "output_type": "stream",
                    "text": "(50, 100)\n",
                    "name": "stdout"
                }
            ]
        },
        {
            "metadata": {},
            "cell_type": "markdown",
            "source": "### OBJECTS ARE MUTABLE"
        },
        {
            "metadata": {},
            "cell_type": "code",
            "source": "box.width = box.width + 50 \nbox.height = box.height + 100",
            "execution_count": 13,
            "outputs": []
        },
        {
            "metadata": {},
            "cell_type": "code",
            "source": "def grow_rectangle(rect, dwidth, dheight):\n    rect.width += dwidth \n    rect.height += dheight ",
            "execution_count": 14,
            "outputs": []
        },
        {
            "metadata": {},
            "cell_type": "code",
            "source": "box.width, box.height ",
            "execution_count": 15,
            "outputs": [
                {
                    "output_type": "execute_result",
                    "execution_count": 15,
                    "data": {
                        "text/plain": "(150.0, 300.0)"
                    },
                    "metadata": {}
                }
            ]
        },
        {
            "metadata": {},
            "cell_type": "code",
            "source": "grow_rectangle(box, 50, 100)",
            "execution_count": 16,
            "outputs": []
        },
        {
            "metadata": {},
            "cell_type": "code",
            "source": "box.width, box.height ",
            "execution_count": 17,
            "outputs": [
                {
                    "output_type": "execute_result",
                    "execution_count": 17,
                    "data": {
                        "text/plain": "(200.0, 400.0)"
                    },
                    "metadata": {}
                }
            ]
        },
        {
            "metadata": {},
            "cell_type": "code",
            "source": "def move_rectangle(rect, dx,dy):\n    rect.corner.x += dx\n    rect.corner.y += dy\nmove_rectangle(box,20,20)",
            "execution_count": 18,
            "outputs": []
        },
        {
            "metadata": {},
            "cell_type": "code",
            "source": "box.corner.x,box.corner.y",
            "execution_count": 19,
            "outputs": [
                {
                    "output_type": "execute_result",
                    "execution_count": 19,
                    "data": {
                        "text/plain": "(20.0, 20.0)"
                    },
                    "metadata": {}
                }
            ]
        },
        {
            "metadata": {},
            "cell_type": "markdown",
            "source": "### COPYING"
        },
        {
            "metadata": {},
            "cell_type": "code",
            "source": "p1 = Point() \np1.x = 3.0\np1.y = 4.0",
            "execution_count": 20,
            "outputs": []
        },
        {
            "metadata": {},
            "cell_type": "code",
            "source": "import copy\np2 = copy.copy(p1)",
            "execution_count": 21,
            "outputs": []
        },
        {
            "metadata": {},
            "cell_type": "code",
            "source": "print_point(p1)",
            "execution_count": 22,
            "outputs": [
                {
                    "output_type": "stream",
                    "text": "(3, 4)\n",
                    "name": "stdout"
                }
            ]
        },
        {
            "metadata": {},
            "cell_type": "code",
            "source": "print_point(p2)",
            "execution_count": 23,
            "outputs": [
                {
                    "output_type": "stream",
                    "text": "(3, 4)\n",
                    "name": "stdout"
                }
            ]
        },
        {
            "metadata": {},
            "cell_type": "code",
            "source": "p1 is p2",
            "execution_count": 24,
            "outputs": [
                {
                    "output_type": "execute_result",
                    "execution_count": 24,
                    "data": {
                        "text/plain": "False"
                    },
                    "metadata": {}
                }
            ]
        },
        {
            "metadata": {},
            "cell_type": "code",
            "source": "p1 == p2",
            "execution_count": 25,
            "outputs": [
                {
                    "output_type": "execute_result",
                    "execution_count": 25,
                    "data": {
                        "text/plain": "False"
                    },
                    "metadata": {}
                }
            ]
        },
        {
            "metadata": {},
            "cell_type": "code",
            "source": "box2 = copy.copy(box) ## copies only regular object but not embedded objects",
            "execution_count": 26,
            "outputs": []
        },
        {
            "metadata": {},
            "cell_type": "code",
            "source": "box2 is box",
            "execution_count": 27,
            "outputs": [
                {
                    "output_type": "execute_result",
                    "execution_count": 27,
                    "data": {
                        "text/plain": "False"
                    },
                    "metadata": {}
                }
            ]
        },
        {
            "metadata": {},
            "cell_type": "code",
            "source": "box2.corner is box.corner ",
            "execution_count": 28,
            "outputs": [
                {
                    "output_type": "execute_result",
                    "execution_count": 28,
                    "data": {
                        "text/plain": "True"
                    },
                    "metadata": {}
                }
            ]
        },
        {
            "metadata": {},
            "cell_type": "code",
            "source": "box3 = copy.deepcopy(box) ",
            "execution_count": 29,
            "outputs": []
        },
        {
            "metadata": {},
            "cell_type": "code",
            "source": "box3 is box",
            "execution_count": 30,
            "outputs": [
                {
                    "output_type": "execute_result",
                    "execution_count": 30,
                    "data": {
                        "text/plain": "False"
                    },
                    "metadata": {}
                }
            ]
        },
        {
            "metadata": {},
            "cell_type": "code",
            "source": "box3.corner is box.corner",
            "execution_count": 31,
            "outputs": [
                {
                    "output_type": "execute_result",
                    "execution_count": 31,
                    "data": {
                        "text/plain": "False"
                    },
                    "metadata": {}
                }
            ]
        },
        {
            "metadata": {},
            "cell_type": "markdown",
            "source": "### ASSIGNMENT"
        },
        {
            "metadata": {},
            "cell_type": "code",
            "source": "class Circle:\n    \"\"\"Represents a circle that is created with radius and center points\"\"\"",
            "execution_count": 32,
            "outputs": []
        },
        {
            "metadata": {},
            "cell_type": "code",
            "source": "round1 = Circle()",
            "execution_count": 33,
            "outputs": []
        },
        {
            "metadata": {},
            "cell_type": "code",
            "source": "round1.radius = 40\nround1.middle = Point()\nround1.middle.x = 0\nround1.middle.y = 0",
            "execution_count": 34,
            "outputs": []
        },
        {
            "metadata": {},
            "cell_type": "code",
            "source": "def point_in_circle(circ,p):\n    pt_x = p.x - circ.middle.x\n    pt_y = p.y - circ.middle.y\n    if (math.sqrt(pt_x**2+pt_y**2)) <= 40:\n        return True\n    else:\n        return False\npoint_in_circle(round1,blank)",
            "execution_count": 35,
            "outputs": [
                {
                    "output_type": "execute_result",
                    "execution_count": 35,
                    "data": {
                        "text/plain": "True"
                    },
                    "metadata": {}
                }
            ]
        },
        {
            "metadata": {},
            "cell_type": "code",
            "source": "box1 = Rectangle() \nbox1.width = 20\nbox1.height = 30 \nbox1.corner = Point() \nbox1.corner.x = -10\nbox1.corner.y = -20 \nround2 = Circle()\nround2.radius = 40\nround2.middle = Point()\nround2.middle.x = 10\nround2.middle.y = -10",
            "execution_count": 36,
            "outputs": []
        },
        {
            "metadata": {},
            "cell_type": "code",
            "source": "def rect_in_circle(circ,rect): \n    rect1 = rect.width/2\n    rect2 = rect.height/2\n    if (math.sqrt(rect1**2+rect2**2)) <= 40:\n        return True\n    else:\n        return False\nrect_in_circle(round2,box1)",
            "execution_count": 37,
            "outputs": [
                {
                    "output_type": "execute_result",
                    "execution_count": 37,
                    "data": {
                        "text/plain": "True"
                    },
                    "metadata": {}
                }
            ]
        },
        {
            "metadata": {},
            "cell_type": "code",
            "source": "def rect_in_circle(circ,rect): \n    rect1_cx = rect.corner.x - circ.middle.x\n    rect1_cy = rect.corner.y - circ.middle.y\n    if (math.sqrt(rect1_cx**2+rect1_cy**2)) <= 40:\n        return True\n    else:\n        return False\nrect_in_circle(round2,box1)",
            "execution_count": 38,
            "outputs": [
                {
                    "output_type": "execute_result",
                    "execution_count": 38,
                    "data": {
                        "text/plain": "True"
                    },
                    "metadata": {}
                }
            ]
        },
        {
            "metadata": {},
            "cell_type": "code",
            "source": "",
            "execution_count": null,
            "outputs": []
        }
    ],
    "metadata": {
        "kernelspec": {
            "name": "python3",
            "display_name": "Python 3.6",
            "language": "python"
        },
        "language_info": {
            "name": "python",
            "version": "3.6.9",
            "mimetype": "text/x-python",
            "codemirror_mode": {
                "name": "ipython",
                "version": 3
            },
            "pygments_lexer": "ipython3",
            "nbconvert_exporter": "python",
            "file_extension": ".py"
        }
    },
    "nbformat": 4,
    "nbformat_minor": 1
}