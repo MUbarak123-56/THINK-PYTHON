{
    "cells": [
        {
            "metadata": {
                "collapsed": true
            },
            "cell_type": "markdown",
            "source": "# LISTS"
        },
        {
            "metadata": {},
            "cell_type": "markdown",
            "source": "### A LIST IS A SEQUENCE"
        },
        {
            "metadata": {},
            "cell_type": "code",
            "source": "cheeses = ['Cheddar', 'Edam', 'Gouda']\ncheeses",
            "execution_count": 1,
            "outputs": [
                {
                    "output_type": "execute_result",
                    "execution_count": 1,
                    "data": {
                        "text/plain": "['Cheddar', 'Edam', 'Gouda']"
                    },
                    "metadata": {}
                }
            ]
        },
        {
            "metadata": {},
            "cell_type": "code",
            "source": "numbers = [42, 123] \nnumbers",
            "execution_count": 2,
            "outputs": [
                {
                    "output_type": "execute_result",
                    "execution_count": 2,
                    "data": {
                        "text/plain": "[42, 123]"
                    },
                    "metadata": {}
                }
            ]
        },
        {
            "metadata": {},
            "cell_type": "code",
            "source": "empty = []\nempty",
            "execution_count": 3,
            "outputs": [
                {
                    "output_type": "execute_result",
                    "execution_count": 3,
                    "data": {
                        "text/plain": "[]"
                    },
                    "metadata": {}
                }
            ]
        },
        {
            "metadata": {},
            "cell_type": "markdown",
            "source": "### LISTS ARE MUTABLE"
        },
        {
            "metadata": {},
            "cell_type": "code",
            "source": "cheeses[0]",
            "execution_count": 4,
            "outputs": [
                {
                    "output_type": "execute_result",
                    "execution_count": 4,
                    "data": {
                        "text/plain": "'Cheddar'"
                    },
                    "metadata": {}
                }
            ]
        },
        {
            "metadata": {},
            "cell_type": "code",
            "source": "cheeses[0] = 'Riley'",
            "execution_count": 5,
            "outputs": []
        },
        {
            "metadata": {},
            "cell_type": "code",
            "source": "cheeses",
            "execution_count": 6,
            "outputs": [
                {
                    "output_type": "execute_result",
                    "execution_count": 6,
                    "data": {
                        "text/plain": "['Riley', 'Edam', 'Gouda']"
                    },
                    "metadata": {}
                }
            ]
        },
        {
            "metadata": {},
            "cell_type": "code",
            "source": "'Riley' in cheeses ## checking for elements in lists",
            "execution_count": 7,
            "outputs": [
                {
                    "output_type": "execute_result",
                    "execution_count": 7,
                    "data": {
                        "text/plain": "True"
                    },
                    "metadata": {}
                }
            ]
        },
        {
            "metadata": {},
            "cell_type": "code",
            "source": "'Brian' in cheeses",
            "execution_count": 8,
            "outputs": [
                {
                    "output_type": "execute_result",
                    "execution_count": 8,
                    "data": {
                        "text/plain": "False"
                    },
                    "metadata": {}
                }
            ]
        },
        {
            "metadata": {},
            "cell_type": "markdown",
            "source": "### TRAVERSING A LIST"
        },
        {
            "metadata": {},
            "cell_type": "code",
            "source": "for cheese in cheeses:\n    print(cheese)",
            "execution_count": 9,
            "outputs": [
                {
                    "output_type": "stream",
                    "text": "Riley\nEdam\nGouda\n",
                    "name": "stdout"
                }
            ]
        },
        {
            "metadata": {},
            "cell_type": "code",
            "source": "for i in range(len(numbers)): \n    numbers[i] = numbers[i] * 2\nnumbers",
            "execution_count": 10,
            "outputs": [
                {
                    "output_type": "execute_result",
                    "execution_count": 10,
                    "data": {
                        "text/plain": "[84, 246]"
                    },
                    "metadata": {}
                }
            ]
        },
        {
            "metadata": {},
            "cell_type": "code",
            "source": "n = ['spam', 1, ['Brie', 'Roquefort', 'Pol le Veq'], [1, 2, 3]]  ## nested lists",
            "execution_count": 11,
            "outputs": []
        },
        {
            "metadata": {},
            "cell_type": "code",
            "source": "n[3][1]",
            "execution_count": 12,
            "outputs": [
                {
                    "output_type": "execute_result",
                    "execution_count": 12,
                    "data": {
                        "text/plain": "2"
                    },
                    "metadata": {}
                }
            ]
        },
        {
            "metadata": {},
            "cell_type": "markdown",
            "source": "### LIST OPERATIONS"
        },
        {
            "metadata": {},
            "cell_type": "code",
            "source": "a = [1,2,3]\nb = [4,5,6]\na + b",
            "execution_count": 13,
            "outputs": [
                {
                    "output_type": "execute_result",
                    "execution_count": 13,
                    "data": {
                        "text/plain": "[1, 2, 3, 4, 5, 6]"
                    },
                    "metadata": {}
                }
            ]
        },
        {
            "metadata": {},
            "cell_type": "code",
            "source": "a * 3",
            "execution_count": 14,
            "outputs": [
                {
                    "output_type": "execute_result",
                    "execution_count": 14,
                    "data": {
                        "text/plain": "[1, 2, 3, 1, 2, 3, 1, 2, 3]"
                    },
                    "metadata": {}
                }
            ]
        },
        {
            "metadata": {},
            "cell_type": "markdown",
            "source": "### LIST SLICES"
        },
        {
            "metadata": {},
            "cell_type": "code",
            "source": "t = ['a', 'b', 'c', 'd', 'e', 'f']",
            "execution_count": 15,
            "outputs": []
        },
        {
            "metadata": {},
            "cell_type": "code",
            "source": "t[1:3]",
            "execution_count": 16,
            "outputs": [
                {
                    "output_type": "execute_result",
                    "execution_count": 16,
                    "data": {
                        "text/plain": "['b', 'c']"
                    },
                    "metadata": {}
                }
            ]
        },
        {
            "metadata": {},
            "cell_type": "code",
            "source": "t[:4]",
            "execution_count": 17,
            "outputs": [
                {
                    "output_type": "execute_result",
                    "execution_count": 17,
                    "data": {
                        "text/plain": "['a', 'b', 'c', 'd']"
                    },
                    "metadata": {}
                }
            ]
        },
        {
            "metadata": {},
            "cell_type": "code",
            "source": "t[3:]",
            "execution_count": 18,
            "outputs": [
                {
                    "output_type": "execute_result",
                    "execution_count": 18,
                    "data": {
                        "text/plain": "['d', 'e', 'f']"
                    },
                    "metadata": {}
                }
            ]
        },
        {
            "metadata": {},
            "cell_type": "code",
            "source": "t[:]",
            "execution_count": 19,
            "outputs": [
                {
                    "output_type": "execute_result",
                    "execution_count": 19,
                    "data": {
                        "text/plain": "['a', 'b', 'c', 'd', 'e', 'f']"
                    },
                    "metadata": {}
                }
            ]
        },
        {
            "metadata": {},
            "cell_type": "code",
            "source": "t[1:3] = ['x', 'y']",
            "execution_count": 20,
            "outputs": []
        },
        {
            "metadata": {},
            "cell_type": "code",
            "source": "t",
            "execution_count": 21,
            "outputs": [
                {
                    "output_type": "execute_result",
                    "execution_count": 21,
                    "data": {
                        "text/plain": "['a', 'x', 'y', 'd', 'e', 'f']"
                    },
                    "metadata": {}
                }
            ]
        },
        {
            "metadata": {},
            "cell_type": "markdown",
            "source": "### LIST METHODS"
        },
        {
            "metadata": {},
            "cell_type": "code",
            "source": "t = ['a','b','c']\nt.append('d')  ## adding a new element to a list\nt",
            "execution_count": 22,
            "outputs": [
                {
                    "output_type": "execute_result",
                    "execution_count": 22,
                    "data": {
                        "text/plain": "['a', 'b', 'c', 'd']"
                    },
                    "metadata": {}
                }
            ]
        },
        {
            "metadata": {},
            "cell_type": "code",
            "source": "t1 = ['a', 'b', 'c']  \nt2 = ['d', 'e'] \nt1.extend(t2) ## extending a list with a new list\nt1",
            "execution_count": 23,
            "outputs": [
                {
                    "output_type": "execute_result",
                    "execution_count": 23,
                    "data": {
                        "text/plain": "['a', 'b', 'c', 'd', 'e']"
                    },
                    "metadata": {}
                }
            ]
        },
        {
            "metadata": {},
            "cell_type": "code",
            "source": "t = ['d', 'c', 'e', 'b', 'a']\nt.sort() ## for sorting the list\nt ",
            "execution_count": 24,
            "outputs": [
                {
                    "output_type": "execute_result",
                    "execution_count": 24,
                    "data": {
                        "text/plain": "['a', 'b', 'c', 'd', 'e']"
                    },
                    "metadata": {}
                }
            ]
        },
        {
            "metadata": {},
            "cell_type": "markdown",
            "source": "### MAP, FILTER AND REDUCE"
        },
        {
            "metadata": {},
            "cell_type": "code",
            "source": "t = [2,3,4,5]\ndef add_all(t): \n    total = 0 \n    for x in t: \n        total += x \n    return total \nadd_all(t)",
            "execution_count": 25,
            "outputs": [
                {
                    "output_type": "execute_result",
                    "execution_count": 25,
                    "data": {
                        "text/plain": "14"
                    },
                    "metadata": {}
                }
            ]
        },
        {
            "metadata": {},
            "cell_type": "code",
            "source": "t = [1,2,3] ## REDUCING: This happens when the list is reduced to a single value\nsum(t)",
            "execution_count": 26,
            "outputs": [
                {
                    "output_type": "execute_result",
                    "execution_count": 26,
                    "data": {
                        "text/plain": "6"
                    },
                    "metadata": {}
                }
            ]
        },
        {
            "metadata": {},
            "cell_type": "code",
            "source": "m = ['a','b','c','d','e'] ## MAPPING: This happens when the lists' values get transformed by a function\ndef capitalize_all(t): \n    res = [] \n    for s in t: \n        res.append(s.capitalize()) \n    return res \ncapitalize_all(m)",
            "execution_count": 27,
            "outputs": [
                {
                    "output_type": "execute_result",
                    "execution_count": 27,
                    "data": {
                        "text/plain": "['A', 'B', 'C', 'D', 'E']"
                    },
                    "metadata": {}
                }
            ]
        },
        {
            "metadata": {},
            "cell_type": "code",
            "source": "m = ['A','B','c','D','e'] ## FILTERING: This happens when a portion of the list is selected\ndef only_upper(t):  \n    res = [] \n    for s in t: \n        if s.isupper(): \n            res.append(s)\n    return res\nonly_upper(m)",
            "execution_count": 28,
            "outputs": [
                {
                    "output_type": "execute_result",
                    "execution_count": 28,
                    "data": {
                        "text/plain": "['A', 'B', 'D']"
                    },
                    "metadata": {}
                }
            ]
        },
        {
            "metadata": {},
            "cell_type": "markdown",
            "source": "### DELETING ELEMENTS"
        },
        {
            "metadata": {},
            "cell_type": "code",
            "source": "t = ['a', 'b', 'c'] \nx = t.pop(1) ## deleting an element\nt ",
            "execution_count": 29,
            "outputs": [
                {
                    "output_type": "execute_result",
                    "execution_count": 29,
                    "data": {
                        "text/plain": "['a', 'c']"
                    },
                    "metadata": {}
                }
            ]
        },
        {
            "metadata": {},
            "cell_type": "code",
            "source": "x\ntype(x)",
            "execution_count": 30,
            "outputs": [
                {
                    "output_type": "execute_result",
                    "execution_count": 30,
                    "data": {
                        "text/plain": "str"
                    },
                    "metadata": {}
                }
            ]
        },
        {
            "metadata": {},
            "cell_type": "code",
            "source": "t = ['a', 'b', 'c']\ndel t[1] ## removing an element that is not needed\nt ",
            "execution_count": 31,
            "outputs": [
                {
                    "output_type": "execute_result",
                    "execution_count": 31,
                    "data": {
                        "text/plain": "['a', 'c']"
                    },
                    "metadata": {}
                }
            ]
        },
        {
            "metadata": {},
            "cell_type": "code",
            "source": "t = ['a', 'b', 'c']\nt.remove('b') ## removing an element directly\nt",
            "execution_count": 32,
            "outputs": [
                {
                    "output_type": "execute_result",
                    "execution_count": 32,
                    "data": {
                        "text/plain": "['a', 'c']"
                    },
                    "metadata": {}
                }
            ]
        },
        {
            "metadata": {},
            "cell_type": "code",
            "source": "t = ['a', 'b', 'c', 'd', 'e', 'f'] \ndel t[1:5] ## removing a slice of the list\nt ",
            "execution_count": 33,
            "outputs": [
                {
                    "output_type": "execute_result",
                    "execution_count": 33,
                    "data": {
                        "text/plain": "['a', 'f']"
                    },
                    "metadata": {}
                }
            ]
        },
        {
            "metadata": {},
            "cell_type": "markdown",
            "source": "### LISTS AND STRINGS"
        },
        {
            "metadata": {},
            "cell_type": "code",
            "source": "s = 'spam' \nt = list(s) ## converting a string to a list\nt ",
            "execution_count": 34,
            "outputs": [
                {
                    "output_type": "execute_result",
                    "execution_count": 34,
                    "data": {
                        "text/plain": "['s', 'p', 'a', 'm']"
                    },
                    "metadata": {}
                }
            ]
        },
        {
            "metadata": {},
            "cell_type": "code",
            "source": "s = 'pining for the fjords'\nt = s.split() ## breaking into a string of words\nt ",
            "execution_count": 35,
            "outputs": [
                {
                    "output_type": "execute_result",
                    "execution_count": 35,
                    "data": {
                        "text/plain": "['pining', 'for', 'the', 'fjords']"
                    },
                    "metadata": {}
                }
            ]
        },
        {
            "metadata": {},
            "cell_type": "code",
            "source": "s = 'spam-spam-spam'\ndelimiter = '-' \nt = s.split(delimiter) ## splitting with a delimiter\nt ",
            "execution_count": 36,
            "outputs": [
                {
                    "output_type": "execute_result",
                    "execution_count": 36,
                    "data": {
                        "text/plain": "['spam', 'spam', 'spam']"
                    },
                    "metadata": {}
                }
            ]
        },
        {
            "metadata": {},
            "cell_type": "code",
            "source": "t = ['pining', 'for', 'the', 'fjords'] \ndelimiter = ' ' \ns = delimiter.join(t) ## converting the the list to a string\ns ",
            "execution_count": 37,
            "outputs": [
                {
                    "output_type": "execute_result",
                    "execution_count": 37,
                    "data": {
                        "text/plain": "'pining for the fjords'"
                    },
                    "metadata": {}
                }
            ]
        },
        {
            "metadata": {},
            "cell_type": "markdown",
            "source": "### OBJECTS AND VALUES"
        },
        {
            "metadata": {},
            "cell_type": "code",
            "source": "a = 'banana' \nb = 'banana' \na is b ## for checking if two variables are the same",
            "execution_count": 38,
            "outputs": [
                {
                    "output_type": "execute_result",
                    "execution_count": 38,
                    "data": {
                        "text/plain": "True"
                    },
                    "metadata": {}
                }
            ]
        },
        {
            "metadata": {},
            "cell_type": "code",
            "source": "a = [1, 2, 3] \nb = [1, 2, 3] \na is b ## This will be false because the two lists are identical but not equivalent. They have the same values but not the same objects",
            "execution_count": 39,
            "outputs": [
                {
                    "output_type": "execute_result",
                    "execution_count": 39,
                    "data": {
                        "text/plain": "False"
                    },
                    "metadata": {}
                }
            ]
        },
        {
            "metadata": {},
            "cell_type": "markdown",
            "source": "### ALIASING"
        },
        {
            "metadata": {},
            "cell_type": "code",
            "source": "a = [1, 2, 3] \nb = a \nb is a ## This reports as true because they are reporting to the same object",
            "execution_count": 40,
            "outputs": [
                {
                    "output_type": "execute_result",
                    "execution_count": 40,
                    "data": {
                        "text/plain": "True"
                    },
                    "metadata": {}
                }
            ]
        },
        {
            "metadata": {},
            "cell_type": "code",
            "source": "b[0] = 42",
            "execution_count": 41,
            "outputs": []
        },
        {
            "metadata": {},
            "cell_type": "code",
            "source": "a ## if an element in b is changed it also affects a due to aliasing",
            "execution_count": 42,
            "outputs": [
                {
                    "output_type": "execute_result",
                    "execution_count": 42,
                    "data": {
                        "text/plain": "[42, 2, 3]"
                    },
                    "metadata": {}
                }
            ]
        },
        {
            "metadata": {},
            "cell_type": "markdown",
            "source": "### LIST ARGUMENTS"
        },
        {
            "metadata": {},
            "cell_type": "code",
            "source": "def delete_head(t): \n    del t[0]\ndelete_head(a)\na",
            "execution_count": 43,
            "outputs": [
                {
                    "output_type": "execute_result",
                    "execution_count": 43,
                    "data": {
                        "text/plain": "[2, 3]"
                    },
                    "metadata": {}
                }
            ]
        },
        {
            "metadata": {},
            "cell_type": "code",
            "source": "def tail(t): \n    return t[1:] \ntail(t)",
            "execution_count": 44,
            "outputs": [
                {
                    "output_type": "execute_result",
                    "execution_count": 44,
                    "data": {
                        "text/plain": "['for', 'the', 'fjords']"
                    },
                    "metadata": {}
                }
            ]
        },
        {
            "metadata": {},
            "cell_type": "markdown",
            "source": "### ASSIGNMENTS"
        },
        {
            "metadata": {},
            "cell_type": "markdown",
            "source": "#### 1"
        },
        {
            "metadata": {},
            "cell_type": "code",
            "source": "t = [[1, 2], [3], [4, 5, 6]] \ndef nested_sum(t):\n    total = 0 \n    for i in range(len(t)):\n        if type(t[i]) == list:\n            total += sum(t[i])\n        else:\n            total += t[i]\n    return total \nnested_sum(t) ",
            "execution_count": 45,
            "outputs": [
                {
                    "output_type": "execute_result",
                    "execution_count": 45,
                    "data": {
                        "text/plain": "21"
                    },
                    "metadata": {}
                }
            ]
        },
        {
            "metadata": {},
            "cell_type": "markdown",
            "source": "#### 2"
        },
        {
            "metadata": {},
            "cell_type": "code",
            "source": "t = [1, 2, 3, 4] \ndef cum_sum(t):\n    for i in range(len(t)):\n        if i > 0:\n            t[i] += sum(t[:i])\n        else:\n            t[i] = t[i]\n    return t\ncum_sum(t)",
            "execution_count": 46,
            "outputs": [
                {
                    "output_type": "execute_result",
                    "execution_count": 46,
                    "data": {
                        "text/plain": "[1, 3, 7, 15]"
                    },
                    "metadata": {}
                }
            ]
        },
        {
            "metadata": {},
            "cell_type": "markdown",
            "source": "#### 3"
        },
        {
            "metadata": {},
            "cell_type": "code",
            "source": "def middle(t):\n    length = len(t)\n    n = t[1:length-1]\n    return n\nmiddle(t)",
            "execution_count": 47,
            "outputs": [
                {
                    "output_type": "execute_result",
                    "execution_count": 47,
                    "data": {
                        "text/plain": "[3, 7]"
                    },
                    "metadata": {}
                }
            ]
        },
        {
            "metadata": {},
            "cell_type": "markdown",
            "source": "#### 4"
        },
        {
            "metadata": {},
            "cell_type": "code",
            "source": "def chop(t):\n    del t[0]\n    del t[-1]\nchop(t)",
            "execution_count": 48,
            "outputs": []
        },
        {
            "metadata": {},
            "cell_type": "markdown",
            "source": "#### 5"
        },
        {
            "metadata": {},
            "cell_type": "code",
            "source": "r = ['b','a']\ndef is_sorted(t):\n    for i in range(len(t)):\n        if (t[i+1] > t[i]):\n            return True\n        else:\n            return False\nis_sorted(r)",
            "execution_count": 49,
            "outputs": [
                {
                    "output_type": "execute_result",
                    "execution_count": 49,
                    "data": {
                        "text/plain": "False"
                    },
                    "metadata": {}
                }
            ]
        },
        {
            "metadata": {},
            "cell_type": "markdown",
            "source": "#### 6"
        },
        {
            "metadata": {},
            "cell_type": "code",
            "source": "def is_anagram(a,b):\n    if sorted(a) == sorted(b):\n        return True\n    else:\n        return False\nis_anagram('devil','lenid')",
            "execution_count": 50,
            "outputs": [
                {
                    "output_type": "execute_result",
                    "execution_count": 50,
                    "data": {
                        "text/plain": "False"
                    },
                    "metadata": {}
                }
            ]
        },
        {
            "metadata": {},
            "cell_type": "markdown",
            "source": "#### 7"
        },
        {
            "metadata": {},
            "cell_type": "code",
            "source": "def has_duplicates(t):\n    i = 0\n    while i < len(t):\n        if t.count(t[i]) > 1:\n            return True\n        elif i == (len(t) - 1):\n            return False\n        i += 1\nhas_duplicates(list('ban'))",
            "execution_count": 51,
            "outputs": [
                {
                    "output_type": "execute_result",
                    "execution_count": 51,
                    "data": {
                        "text/plain": "False"
                    },
                    "metadata": {}
                }
            ]
        },
        {
            "metadata": {},
            "cell_type": "markdown",
            "source": "#### 8"
        },
        {
            "metadata": {},
            "cell_type": "code",
            "source": "import numpy as np\ndef guess(n,t):\n    a=[0]*n\n    b=0\n    for j in range(t):\n        for i in range (n):\n            a[i] = np.random.randint(1,365) \n        if has_duplicates(a):\n            b=b+1\n            if b > 2:\n                return True\n            else: \n                return False\nguess(23,1000)",
            "execution_count": 52,
            "outputs": [
                {
                    "output_type": "execute_result",
                    "execution_count": 52,
                    "data": {
                        "text/plain": "False"
                    },
                    "metadata": {}
                }
            ]
        },
        {
            "metadata": {},
            "cell_type": "markdown",
            "source": "#### 9"
        },
        {
            "metadata": {},
            "cell_type": "code",
            "source": "def remove_duplicate(a):\n    b=[]\n    for i in range(len(a)):\n        if a[i] in b:\n            b = b\n        else: \n            b.append(a[i])\n    return b\nremove_duplicate(list('banana'))",
            "execution_count": 53,
            "outputs": [
                {
                    "output_type": "execute_result",
                    "execution_count": 53,
                    "data": {
                        "text/plain": "['b', 'a', 'n']"
                    },
                    "metadata": {}
                }
            ]
        },
        {
            "metadata": {},
            "cell_type": "code",
            "source": "",
            "execution_count": null,
            "outputs": []
        }
    ],
    "metadata": {
        "kernelspec": {
            "name": "python3",
            "display_name": "Python 3.6",
            "language": "python"
        },
        "language_info": {
            "name": "python",
            "version": "3.6.9",
            "mimetype": "text/x-python",
            "codemirror_mode": {
                "name": "ipython",
                "version": 3
            },
            "pygments_lexer": "ipython3",
            "nbconvert_exporter": "python",
            "file_extension": ".py"
        }
    },
    "nbformat": 4,
    "nbformat_minor": 1
}