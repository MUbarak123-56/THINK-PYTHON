{
    "cells": [
        {
            "metadata": {
                "collapsed": true
            },
            "cell_type": "markdown",
            "source": "# CLASSES AND FUNCTIONS"
        },
        {
            "metadata": {},
            "cell_type": "markdown",
            "source": "### TIME"
        },
        {
            "metadata": {},
            "cell_type": "code",
            "source": "class Time:\n    \"\"\"Represents the time of day.\nattributes: hour, minute, second \"\"\" ",
            "execution_count": 1,
            "outputs": []
        },
        {
            "metadata": {},
            "cell_type": "code",
            "source": "time = Time() \ntime.hour = 11 \ntime.minute = 59 \ntime.second = 30 ",
            "execution_count": 2,
            "outputs": []
        },
        {
            "metadata": {},
            "cell_type": "code",
            "source": "def print_time(t):\n    print(\"%d:%d:%d\" % (t.hour,t.minute,t.second))",
            "execution_count": 3,
            "outputs": []
        },
        {
            "metadata": {},
            "cell_type": "code",
            "source": "print_time(time)",
            "execution_count": 4,
            "outputs": [
                {
                    "output_type": "stream",
                    "text": "11:59:30\n",
                    "name": "stdout"
                }
            ]
        },
        {
            "metadata": {},
            "cell_type": "code",
            "source": "def is_after(t1,t2):\n    prt1 = print_time(t1)\n    prt2 = print_time(t2)\n    return t1 is t2",
            "execution_count": 5,
            "outputs": []
        },
        {
            "metadata": {},
            "cell_type": "code",
            "source": "import copy\ntime2 = copy.copy(time)",
            "execution_count": 6,
            "outputs": []
        },
        {
            "metadata": {},
            "cell_type": "code",
            "source": "is_after(time,time2)",
            "execution_count": 7,
            "outputs": [
                {
                    "output_type": "stream",
                    "text": "11:59:30\n11:59:30\n",
                    "name": "stdout"
                },
                {
                    "output_type": "execute_result",
                    "execution_count": 7,
                    "data": {
                        "text/plain": "False"
                    },
                    "metadata": {}
                }
            ]
        },
        {
            "metadata": {},
            "cell_type": "code",
            "source": "time3 = Time() \ntime3.hour = 11 \ntime3.minute = 59 \ntime3.second = 30 \nis_after(time,time3)",
            "execution_count": 8,
            "outputs": [
                {
                    "output_type": "stream",
                    "text": "11:59:30\n11:59:30\n",
                    "name": "stdout"
                },
                {
                    "output_type": "execute_result",
                    "execution_count": 8,
                    "data": {
                        "text/plain": "False"
                    },
                    "metadata": {}
                }
            ]
        },
        {
            "metadata": {},
            "cell_type": "markdown",
            "source": "### PURE FUNCTION"
        },
        {
            "metadata": {},
            "cell_type": "code",
            "source": "def add_time(t1, t2): \n    sum = Time() \n    sum.hour = t1.hour + t2.hour \n    sum.minute = t1.minute + t2.minute \n    sum.second = t1.second + t2.second \n    return sum ",
            "execution_count": 9,
            "outputs": []
        },
        {
            "metadata": {},
            "cell_type": "code",
            "source": "start = Time()\nstart.hour = 9 \nstart.minute = 45 \nstart.second = 0",
            "execution_count": 10,
            "outputs": []
        },
        {
            "metadata": {},
            "cell_type": "code",
            "source": "duration = Time() \nduration.hour = 1 \nduration.minute = 35 \nduration.second = 0",
            "execution_count": 11,
            "outputs": []
        },
        {
            "metadata": {},
            "cell_type": "code",
            "source": "done = add_time(start, duration) \nprint_time(done)",
            "execution_count": 12,
            "outputs": [
                {
                    "output_type": "stream",
                    "text": "10:80:0\n",
                    "name": "stdout"
                }
            ]
        },
        {
            "metadata": {},
            "cell_type": "code",
            "source": "## An improved function for time\ndef add_time(t1, t2): \n    sum = Time() \n    sum.hour = t1.hour + t2.hour \n    sum.minute = t1.minute + t2.minute \n    sum.second = t1.second + t2.second\n    if sum.second >= 60: \n        sum.second -= 60 \n        sum.minute += 1\n    if sum.minute >= 60: \n        sum.minute -= 60 \n        sum.hour += 1\n    return sum\nprint_time(add_time(start,duration))",
            "execution_count": 13,
            "outputs": [
                {
                    "output_type": "stream",
                    "text": "11:20:0\n",
                    "name": "stdout"
                }
            ]
        },
        {
            "metadata": {},
            "cell_type": "markdown",
            "source": "### MODIFIERS"
        },
        {
            "metadata": {},
            "cell_type": "code",
            "source": "def increment(time, seconds): \n    time.second += seconds\n    if time.second >= 60: \n        time.second = time.second%60 \n        time.minute = time.second/60\n    if time.minute >= 60: \n        time.minute = time.minute % 60 \n        time.hour = time.minute/60",
            "execution_count": 14,
            "outputs": []
        },
        {
            "metadata": {},
            "cell_type": "markdown",
            "source": "### PROTOTYPING VS PLANNING"
        },
        {
            "metadata": {},
            "cell_type": "code",
            "source": "def time_to_int(time): \n    minutes = time.hour * 60 + time.minute \n    seconds = minutes * 60 + time.second \n    return seconds ",
            "execution_count": 15,
            "outputs": []
        },
        {
            "metadata": {},
            "cell_type": "code",
            "source": "def int_to_time(seconds):\n    time = Time() \n    minutes, time.second = divmod(seconds, 60) \n    time.hour, time.minute = divmod(minutes, 60) \n    return time",
            "execution_count": 16,
            "outputs": []
        },
        {
            "metadata": {},
            "cell_type": "code",
            "source": "def add_time(t1, t2): \n    seconds = time_to_int(t1) + time_to_int(t2) \n    return int_to_time(seconds)",
            "execution_count": 17,
            "outputs": []
        },
        {
            "metadata": {},
            "cell_type": "markdown",
            "source": "### ASSIGNMENTS"
        },
        {
            "metadata": {},
            "cell_type": "code",
            "source": "def mul_time(time, number):\n    t1 = time_to_int(time)\n    t2 = t1 * number\n    return int_to_time(t2)",
            "execution_count": 18,
            "outputs": []
        },
        {
            "metadata": {},
            "cell_type": "code",
            "source": "def race_time(time, number):\n    average = mul_time(time, (1.0/number))\n    return (\"%.2d:%.2d:%.2d\"%(average.hour,average.minute,average.second))",
            "execution_count": 23,
            "outputs": []
        },
        {
            "metadata": {},
            "cell_type": "code",
            "source": "time4 = Time()\ntime4.hour = 0\ntime4.minute = 29\ntime4.second = 20\nrace_time(time4,3)",
            "execution_count": 24,
            "outputs": [
                {
                    "output_type": "execute_result",
                    "execution_count": 24,
                    "data": {
                        "text/plain": "'00:09:46'"
                    },
                    "metadata": {}
                }
            ]
        },
        {
            "metadata": {},
            "cell_type": "code",
            "source": "",
            "execution_count": null,
            "outputs": []
        }
    ],
    "metadata": {
        "kernelspec": {
            "name": "python3",
            "display_name": "Python 3.6",
            "language": "python"
        },
        "language_info": {
            "name": "python",
            "version": "3.6.9",
            "mimetype": "text/x-python",
            "codemirror_mode": {
                "name": "ipython",
                "version": 3
            },
            "pygments_lexer": "ipython3",
            "nbconvert_exporter": "python",
            "file_extension": ".py"
        }
    },
    "nbformat": 4,
    "nbformat_minor": 1
}