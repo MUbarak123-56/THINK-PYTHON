{
    "cells": [
        {
            "metadata": {
                "collapsed": true
            },
            "cell_type": "markdown",
            "source": "# ITERATION"
        },
        {
            "metadata": {},
            "cell_type": "markdown",
            "source": "### REASSIGNMENT"
        },
        {
            "metadata": {},
            "cell_type": "code",
            "source": "x = 5\nx",
            "execution_count": 1,
            "outputs": [
                {
                    "output_type": "execute_result",
                    "execution_count": 1,
                    "data": {
                        "text/plain": "5"
                    },
                    "metadata": {}
                }
            ]
        },
        {
            "metadata": {},
            "cell_type": "code",
            "source": "x = 7\nx",
            "execution_count": 2,
            "outputs": [
                {
                    "output_type": "execute_result",
                    "execution_count": 2,
                    "data": {
                        "text/plain": "7"
                    },
                    "metadata": {}
                }
            ]
        },
        {
            "metadata": {},
            "cell_type": "code",
            "source": "a = 5",
            "execution_count": 3,
            "outputs": []
        },
        {
            "metadata": {},
            "cell_type": "code",
            "source": "b = a",
            "execution_count": 4,
            "outputs": []
        },
        {
            "metadata": {},
            "cell_type": "code",
            "source": "a = 3",
            "execution_count": 5,
            "outputs": []
        },
        {
            "metadata": {},
            "cell_type": "code",
            "source": "b",
            "execution_count": 6,
            "outputs": [
                {
                    "output_type": "execute_result",
                    "execution_count": 6,
                    "data": {
                        "text/plain": "5"
                    },
                    "metadata": {}
                }
            ]
        },
        {
            "metadata": {},
            "cell_type": "markdown",
            "source": "### UPDATING VARIABLES"
        },
        {
            "metadata": {},
            "cell_type": "code",
            "source": "y = y + 1 ## This doesn't work as y does not exist",
            "execution_count": 7,
            "outputs": [
                {
                    "output_type": "error",
                    "ename": "NameError",
                    "evalue": "name 'y' is not defined",
                    "traceback": [
                        "\u001b[0;31m---------------------------------------------------------------------------\u001b[0m",
                        "\u001b[0;31mNameError\u001b[0m                                 Traceback (most recent call last)",
                        "\u001b[0;32m<ipython-input-7-b2b72c8d375e>\u001b[0m in \u001b[0;36m<module>\u001b[0;34m\u001b[0m\n\u001b[0;32m----> 1\u001b[0;31m \u001b[0my\u001b[0m \u001b[0;34m=\u001b[0m \u001b[0my\u001b[0m \u001b[0;34m+\u001b[0m \u001b[0;36m1\u001b[0m \u001b[0;31m## This doesn't work as y does not exist\u001b[0m\u001b[0;34m\u001b[0m\u001b[0;34m\u001b[0m\u001b[0m\n\u001b[0m",
                        "\u001b[0;31mNameError\u001b[0m: name 'y' is not defined"
                    ]
                }
            ]
        },
        {
            "metadata": {},
            "cell_type": "code",
            "source": "y = 0\ny = y + 1",
            "execution_count": 8,
            "outputs": []
        },
        {
            "metadata": {},
            "cell_type": "markdown",
            "source": "### THE WHILE STATEMENT"
        },
        {
            "metadata": {},
            "cell_type": "code",
            "source": "def countdown(n): \n    while n > 0: \n        print(n) \n        n = n - 1 \n    print('Blastoff!') \ncountdown(10)",
            "execution_count": 9,
            "outputs": [
                {
                    "output_type": "stream",
                    "text": "10\n9\n8\n7\n6\n5\n4\n3\n2\n1\nBlastoff!\n",
                    "name": "stdout"
                }
            ]
        },
        {
            "metadata": {},
            "cell_type": "code",
            "source": "def sequence(n): \n    while n != 1: \n        print(n) \n        if n % 2 == 0: # n is even \n            n = n / 2 \n        else:          # n is odd \n            n = n*3 + 1 \nsequence(3)",
            "execution_count": 10,
            "outputs": [
                {
                    "output_type": "stream",
                    "text": "3\n10\n5.0\n16.0\n8.0\n4.0\n2.0\n",
                    "name": "stdout"
                }
            ]
        },
        {
            "metadata": {},
            "cell_type": "markdown",
            "source": "### BREAK"
        },
        {
            "metadata": {},
            "cell_type": "code",
            "source": "## break is used to escape a while loop mid-way\nwhile True: \n    line = input('> ') \n    if line == 'done': \n        break \n    print(line)\nprint('Done!') ",
            "execution_count": 11,
            "outputs": [
                {
                    "output_type": "stream",
                    "name": "stdout",
                    "text": "> \n\n> done\nDone!\n"
                }
            ]
        },
        {
            "metadata": {},
            "cell_type": "markdown",
            "source": "### NEWTON'S SQUARE ROOTS"
        },
        {
            "metadata": {},
            "cell_type": "code",
            "source": "x = 3\na = 2\nwhile True: \n    print(x) \n    y = (x + a/x) / 2 \n    if y == x: \n        break \n    x = y ",
            "execution_count": 12,
            "outputs": [
                {
                    "output_type": "stream",
                    "text": "3\n1.8333333333333333\n1.4621212121212122\n1.414998429894803\n1.4142137800471977\n1.4142135623731118\n1.414213562373095\n",
                    "name": "stdout"
                }
            ]
        },
        {
            "metadata": {},
            "cell_type": "markdown",
            "source": "### ALGORITHMS"
        },
        {
            "metadata": {},
            "cell_type": "markdown",
            "source": "##### Algorithms are methods/mechanisms that require the use of inputs to define outputs "
        },
        {
            "metadata": {},
            "cell_type": "markdown",
            "source": "### ASSIGNMENTS"
        },
        {
            "metadata": {},
            "cell_type": "markdown",
            "source": "#### 1"
        },
        {
            "metadata": {},
            "cell_type": "code",
            "source": "def mysqrt(a):\n    x = 3\n    while True:  \n        y = (x + a/x) / 2 \n        if abs(y-x) < 0.0000001:\n            break\n        x = y\n    return x\nmysqrt(5)",
            "execution_count": 13,
            "outputs": [
                {
                    "output_type": "execute_result",
                    "execution_count": 13,
                    "data": {
                        "text/plain": "2.236067977499978"
                    },
                    "metadata": {}
                }
            ]
        },
        {
            "metadata": {},
            "cell_type": "code",
            "source": "import math\ndef test_sqrt():\n    from decimal import Decimal\n    print(\"a\", \" \"*2,\"mysqrt(a)\", \" \"*4, \"math.sqrt(a)\", \" \"*2, \"diff\\n\")\n    print(\"-\", \" \"*2, \"-\"*9, \" \"*4, \"-\"*12,\" \"*2,\"-\"*4,\"\\n\")\n    n = 1\n    while (n <= 9):\n        form =  Decimal(format(mysqrt(n),\".10f\"))\n        formula = Decimal(format(math.sqrt(n),\".10f\"))\n        print(n, \" \",form, \" \",formula, \" \", abs(form - formula),\"\\n\")\n        n = n + 1\ntest_sqrt()",
            "execution_count": 14,
            "outputs": [
                {
                    "output_type": "stream",
                    "text": "a    mysqrt(a)      math.sqrt(a)    diff\n\n-    ---------      ------------    ---- \n\n1   1.0000000005   1.0000000000   5E-10 \n\n2   1.4142135624   1.4142135624   0E-10 \n\n3   1.7320508100   1.7320508076   2.4E-9 \n\n4   2.0000000000   2.0000000000   0E-10 \n\n5   2.2360679775   2.2360679775   0E-10 \n\n6   2.4494897959   2.4494897428   5.31E-8 \n\n7   2.6457513123   2.6457513111   1.2E-9 \n\n8   2.8284271247   2.8284271247   0E-10 \n\n9   3.0000000000   3.0000000000   0E-10 \n\n",
                    "name": "stdout"
                }
            ]
        },
        {
            "metadata": {},
            "cell_type": "markdown",
            "source": "#### 2"
        },
        {
            "metadata": {},
            "cell_type": "code",
            "source": "def eval_loop():\n    while True:\n        user_input = input(\"> \")\n        if user_input == \"0\":\n            break\n        else:\n            user_input_eval = eval(user_input)\n            print(user_input_eval)\n    return eval(user_input)\neval_loop()",
            "execution_count": 18,
            "outputs": [
                {
                    "output_type": "stream",
                    "name": "stdout",
                    "text": "> 3 + 10\n13\n> 0\n"
                },
                {
                    "output_type": "execute_result",
                    "execution_count": 18,
                    "data": {
                        "text/plain": "0"
                    },
                    "metadata": {}
                }
            ]
        },
        {
            "metadata": {},
            "cell_type": "code",
            "source": "",
            "execution_count": null,
            "outputs": []
        }
    ],
    "metadata": {
        "kernelspec": {
            "name": "python3",
            "display_name": "Python 3.6",
            "language": "python"
        },
        "language_info": {
            "name": "python",
            "version": "3.6.9",
            "mimetype": "text/x-python",
            "codemirror_mode": {
                "name": "ipython",
                "version": 3
            },
            "pygments_lexer": "ipython3",
            "nbconvert_exporter": "python",
            "file_extension": ".py"
        }
    },
    "nbformat": 4,
    "nbformat_minor": 1
}