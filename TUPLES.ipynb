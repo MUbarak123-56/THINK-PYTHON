{
    "cells": [
        {
            "metadata": {
                "collapsed": true
            },
            "cell_type": "markdown",
            "source": "# TUPLES"
        },
        {
            "metadata": {},
            "cell_type": "markdown",
            "source": "### TUPLES ARE IMMUTABLE"
        },
        {
            "metadata": {},
            "cell_type": "code",
            "source": "t = 'a', 'b', 'c', 'd', 'e' ",
            "execution_count": 1,
            "outputs": []
        },
        {
            "metadata": {},
            "cell_type": "code",
            "source": "t = ('a', 'b', 'c', 'd', 'e')",
            "execution_count": 2,
            "outputs": []
        },
        {
            "metadata": {},
            "cell_type": "code",
            "source": "t1 = 'a', \ntype(t1)",
            "execution_count": 3,
            "outputs": [
                {
                    "output_type": "execute_result",
                    "execution_count": 3,
                    "data": {
                        "text/plain": "tuple"
                    },
                    "metadata": {}
                }
            ]
        },
        {
            "metadata": {},
            "cell_type": "code",
            "source": "t2 = ('a')\ntype(t2)",
            "execution_count": 4,
            "outputs": [
                {
                    "output_type": "execute_result",
                    "execution_count": 4,
                    "data": {
                        "text/plain": "str"
                    },
                    "metadata": {}
                }
            ]
        },
        {
            "metadata": {},
            "cell_type": "code",
            "source": "t = tuple() ## creating an empty tuple",
            "execution_count": 5,
            "outputs": []
        },
        {
            "metadata": {},
            "cell_type": "code",
            "source": "t = tuple('lupins') ",
            "execution_count": 6,
            "outputs": []
        },
        {
            "metadata": {},
            "cell_type": "code",
            "source": "t",
            "execution_count": 7,
            "outputs": [
                {
                    "output_type": "execute_result",
                    "execution_count": 7,
                    "data": {
                        "text/plain": "('l', 'u', 'p', 'i', 'n', 's')"
                    },
                    "metadata": {}
                }
            ]
        },
        {
            "metadata": {},
            "cell_type": "code",
            "source": "t = ('a', 'b', 'c', 'd', 'e')\nt[0] ",
            "execution_count": 8,
            "outputs": [
                {
                    "output_type": "execute_result",
                    "execution_count": 8,
                    "data": {
                        "text/plain": "'a'"
                    },
                    "metadata": {}
                }
            ]
        },
        {
            "metadata": {},
            "cell_type": "code",
            "source": "t[1:3] ",
            "execution_count": 9,
            "outputs": [
                {
                    "output_type": "execute_result",
                    "execution_count": 9,
                    "data": {
                        "text/plain": "('b', 'c')"
                    },
                    "metadata": {}
                }
            ]
        },
        {
            "metadata": {},
            "cell_type": "code",
            "source": "## t[0] = 'A' ## lists are immutable",
            "execution_count": 10,
            "outputs": []
        },
        {
            "metadata": {},
            "cell_type": "code",
            "source": "t = ('A',) + t[1:]\nt ",
            "execution_count": 11,
            "outputs": [
                {
                    "output_type": "execute_result",
                    "execution_count": 11,
                    "data": {
                        "text/plain": "('A', 'b', 'c', 'd', 'e')"
                    },
                    "metadata": {}
                }
            ]
        },
        {
            "metadata": {},
            "cell_type": "code",
            "source": "(0, 1, 2) < (0, 3, 4)",
            "execution_count": 12,
            "outputs": [
                {
                    "output_type": "execute_result",
                    "execution_count": 12,
                    "data": {
                        "text/plain": "True"
                    },
                    "metadata": {}
                }
            ]
        },
        {
            "metadata": {},
            "cell_type": "code",
            "source": "(0, 1, 2000000) < (0, 3, 4) ## It starts off with the first values. If they are equal, it moves on to the next ones. ",
            "execution_count": 13,
            "outputs": [
                {
                    "output_type": "execute_result",
                    "execution_count": 13,
                    "data": {
                        "text/plain": "True"
                    },
                    "metadata": {}
                }
            ]
        },
        {
            "metadata": {},
            "cell_type": "markdown",
            "source": "### TUPLE ASSIGNMENT"
        },
        {
            "metadata": {},
            "cell_type": "code",
            "source": "a = 22\nb = 21\ntemp = a\na = b\nb = temp \na, b = b, a ## number of variables on the left must equal number of variables on the right",
            "execution_count": 14,
            "outputs": []
        },
        {
            "metadata": {},
            "cell_type": "code",
            "source": "addr = 'monty@python.org'\nuname, domain = addr.split('@')",
            "execution_count": 15,
            "outputs": []
        },
        {
            "metadata": {},
            "cell_type": "code",
            "source": "uname",
            "execution_count": 16,
            "outputs": [
                {
                    "output_type": "execute_result",
                    "execution_count": 16,
                    "data": {
                        "text/plain": "'monty'"
                    },
                    "metadata": {}
                }
            ]
        },
        {
            "metadata": {},
            "cell_type": "code",
            "source": "domain",
            "execution_count": 17,
            "outputs": [
                {
                    "output_type": "execute_result",
                    "execution_count": 17,
                    "data": {
                        "text/plain": "'python.org'"
                    },
                    "metadata": {}
                }
            ]
        },
        {
            "metadata": {},
            "cell_type": "markdown",
            "source": "### TUPLES AS RETURN VALUES"
        },
        {
            "metadata": {},
            "cell_type": "code",
            "source": "t = divmod(7, 3) ## used to obtain the quotient and the remainder ",
            "execution_count": 18,
            "outputs": []
        },
        {
            "metadata": {},
            "cell_type": "code",
            "source": "t",
            "execution_count": 19,
            "outputs": [
                {
                    "output_type": "execute_result",
                    "execution_count": 19,
                    "data": {
                        "text/plain": "(2, 1)"
                    },
                    "metadata": {}
                }
            ]
        },
        {
            "metadata": {},
            "cell_type": "code",
            "source": "quot, rem = divmod(7, 3) ",
            "execution_count": 20,
            "outputs": []
        },
        {
            "metadata": {},
            "cell_type": "code",
            "source": "quot",
            "execution_count": 21,
            "outputs": [
                {
                    "output_type": "execute_result",
                    "execution_count": 21,
                    "data": {
                        "text/plain": "2"
                    },
                    "metadata": {}
                }
            ]
        },
        {
            "metadata": {},
            "cell_type": "code",
            "source": "rem",
            "execution_count": 22,
            "outputs": [
                {
                    "output_type": "execute_result",
                    "execution_count": 22,
                    "data": {
                        "text/plain": "1"
                    },
                    "metadata": {}
                }
            ]
        },
        {
            "metadata": {},
            "cell_type": "code",
            "source": "def min_max(t): \n    return min(t), max(t) ",
            "execution_count": 23,
            "outputs": []
        },
        {
            "metadata": {},
            "cell_type": "code",
            "source": "min_max(t)",
            "execution_count": 24,
            "outputs": [
                {
                    "output_type": "execute_result",
                    "execution_count": 24,
                    "data": {
                        "text/plain": "(1, 2)"
                    },
                    "metadata": {}
                }
            ]
        },
        {
            "metadata": {},
            "cell_type": "markdown",
            "source": "### VARIABLE-LENGTH ARGUMENT TUPLE"
        },
        {
            "metadata": {},
            "cell_type": "code",
            "source": "def printall(*args): \n    print(args) ",
            "execution_count": 25,
            "outputs": []
        },
        {
            "metadata": {},
            "cell_type": "code",
            "source": "printall(1, 2.0, '3') ",
            "execution_count": 26,
            "outputs": [
                {
                    "output_type": "stream",
                    "text": "(1, 2.0, '3')\n",
                    "name": "stdout"
                }
            ]
        },
        {
            "metadata": {},
            "cell_type": "code",
            "source": "t = (7, 3) \ndivmod(*t) ## * is used to scatter a tuple into more arguments",
            "execution_count": 27,
            "outputs": [
                {
                    "output_type": "execute_result",
                    "execution_count": 27,
                    "data": {
                        "text/plain": "(2, 1)"
                    },
                    "metadata": {}
                }
            ]
        },
        {
            "metadata": {},
            "cell_type": "code",
            "source": "max(1, 2, 3) ",
            "execution_count": 28,
            "outputs": [
                {
                    "output_type": "execute_result",
                    "execution_count": 28,
                    "data": {
                        "text/plain": "3"
                    },
                    "metadata": {}
                }
            ]
        },
        {
            "metadata": {},
            "cell_type": "code",
            "source": "def sumall(*args): \n    sum = 0\n    for i in range(len(args)):\n        sum += args[i]\n    return sum",
            "execution_count": 36,
            "outputs": []
        },
        {
            "metadata": {},
            "cell_type": "code",
            "source": "sumall(1,2,3)",
            "execution_count": 37,
            "outputs": [
                {
                    "output_type": "execute_result",
                    "execution_count": 37,
                    "data": {
                        "text/plain": "6"
                    },
                    "metadata": {}
                }
            ]
        },
        {
            "metadata": {},
            "cell_type": "markdown",
            "source": "### LISTS AND TUPLES"
        },
        {
            "metadata": {},
            "cell_type": "code",
            "source": "s = 'abc'\nt = [0, 1, 2] \nzip(s, t) ",
            "execution_count": 38,
            "outputs": [
                {
                    "output_type": "execute_result",
                    "execution_count": 38,
                    "data": {
                        "text/plain": "<zip at 0x7f7f386ff388>"
                    },
                    "metadata": {}
                }
            ]
        },
        {
            "metadata": {},
            "cell_type": "code",
            "source": "for pair in zip(s, t): \n    print(pair) ",
            "execution_count": 39,
            "outputs": [
                {
                    "output_type": "stream",
                    "text": "('a', 0)\n('b', 1)\n('c', 2)\n",
                    "name": "stdout"
                }
            ]
        },
        {
            "metadata": {},
            "cell_type": "code",
            "source": "list(zip(s, t)) ",
            "execution_count": 40,
            "outputs": [
                {
                    "output_type": "execute_result",
                    "execution_count": 40,
                    "data": {
                        "text/plain": "[('a', 0), ('b', 1), ('c', 2)]"
                    },
                    "metadata": {}
                }
            ]
        },
        {
            "metadata": {},
            "cell_type": "code",
            "source": "list(zip('Anne', 'Elk')) ## it stops iterating at the length of the shorter one",
            "execution_count": 41,
            "outputs": [
                {
                    "output_type": "execute_result",
                    "execution_count": 41,
                    "data": {
                        "text/plain": "[('A', 'E'), ('n', 'l'), ('n', 'k')]"
                    },
                    "metadata": {}
                }
            ]
        },
        {
            "metadata": {},
            "cell_type": "code",
            "source": "t = [('a', 0), ('b', 1), ('c', 2)] \nfor letter, number in t: \n    print(number, letter) ",
            "execution_count": 42,
            "outputs": [
                {
                    "output_type": "stream",
                    "text": "0 a\n1 b\n2 c\n",
                    "name": "stdout"
                }
            ]
        },
        {
            "metadata": {},
            "cell_type": "code",
            "source": "def has_match(t1, t2): \n    for x, y in zip(t1, t2): \n        if x == y: \n            return True\n    return False ",
            "execution_count": 43,
            "outputs": []
        },
        {
            "metadata": {},
            "cell_type": "code",
            "source": "has_match('Francis','Trevecca')",
            "execution_count": 44,
            "outputs": [
                {
                    "output_type": "execute_result",
                    "execution_count": 44,
                    "data": {
                        "text/plain": "True"
                    },
                    "metadata": {}
                }
            ]
        },
        {
            "metadata": {},
            "cell_type": "code",
            "source": "for index, element in enumerate('abc'): \n    print(index, element) ",
            "execution_count": 45,
            "outputs": [
                {
                    "output_type": "stream",
                    "text": "0 a\n1 b\n2 c\n",
                    "name": "stdout"
                }
            ]
        },
        {
            "metadata": {},
            "cell_type": "markdown",
            "source": "### DICTIONARIES AND TUPLES"
        },
        {
            "metadata": {},
            "cell_type": "code",
            "source": "d = {'a':0, 'b':1, 'c':2}",
            "execution_count": 46,
            "outputs": []
        },
        {
            "metadata": {},
            "cell_type": "code",
            "source": "t = d.items()",
            "execution_count": 47,
            "outputs": []
        },
        {
            "metadata": {},
            "cell_type": "code",
            "source": "t",
            "execution_count": 48,
            "outputs": [
                {
                    "output_type": "execute_result",
                    "execution_count": 48,
                    "data": {
                        "text/plain": "dict_items([('a', 0), ('b', 1), ('c', 2)])"
                    },
                    "metadata": {}
                }
            ]
        },
        {
            "metadata": {},
            "cell_type": "code",
            "source": "for key, value in d.items():\n    print(key, value)",
            "execution_count": 49,
            "outputs": [
                {
                    "output_type": "stream",
                    "text": "a 0\nb 1\nc 2\n",
                    "name": "stdout"
                }
            ]
        },
        {
            "metadata": {},
            "cell_type": "code",
            "source": "t = [('a', 0), ('c', 2), ('b', 1)]\nd = dict(t) \nd",
            "execution_count": 51,
            "outputs": [
                {
                    "output_type": "execute_result",
                    "execution_count": 51,
                    "data": {
                        "text/plain": "{'a': 0, 'c': 2, 'b': 1}"
                    },
                    "metadata": {}
                }
            ]
        },
        {
            "metadata": {},
            "cell_type": "code",
            "source": "d = dict(zip('abc', range(3)))",
            "execution_count": 53,
            "outputs": []
        },
        {
            "metadata": {},
            "cell_type": "code",
            "source": "d",
            "execution_count": 54,
            "outputs": [
                {
                    "output_type": "execute_result",
                    "execution_count": 54,
                    "data": {
                        "text/plain": "{'a': 0, 'b': 1, 'c': 2}"
                    },
                    "metadata": {}
                }
            ]
        },
        {
            "metadata": {},
            "cell_type": "markdown",
            "source": "### ASSIGNMENTS"
        },
        {
            "metadata": {},
            "cell_type": "code",
            "source": "def most_frequent(t):\n    d = dict()\n    c = 0\n    for c in t:\n        if c not in d:\n            d[c] = 1\n        else:\n            d[c] += 1\n    result = []\n    for key in d:\n        result.append((d[key], key))\n    result.sort(reverse=True)\n    for count, letter in result:\n        print(letter, count)\nmost_frequent('banana')",
            "execution_count": 80,
            "outputs": [
                {
                    "output_type": "stream",
                    "text": "a 3\nn 2\nb 1\n",
                    "name": "stdout"
                }
            ]
        },
        {
            "metadata": {},
            "cell_type": "code",
            "source": "",
            "execution_count": null,
            "outputs": []
        }
    ],
    "metadata": {
        "kernelspec": {
            "name": "python3",
            "display_name": "Python 3.6",
            "language": "python"
        },
        "language_info": {
            "name": "python",
            "version": "3.6.9",
            "mimetype": "text/x-python",
            "codemirror_mode": {
                "name": "ipython",
                "version": 3
            },
            "pygments_lexer": "ipython3",
            "nbconvert_exporter": "python",
            "file_extension": ".py"
        }
    },
    "nbformat": 4,
    "nbformat_minor": 1
}