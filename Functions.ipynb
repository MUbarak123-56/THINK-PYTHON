{
    "cells": [
        {
            "metadata": {
                "collapsed": true
            },
            "cell_type": "markdown",
            "source": "# FUNCTIONS"
        },
        {
            "metadata": {},
            "cell_type": "markdown",
            "source": "#### BASIC FUNCTION CALLS"
        },
        {
            "metadata": {},
            "cell_type": "code",
            "source": "type(42)",
            "execution_count": 1,
            "outputs": [
                {
                    "output_type": "execute_result",
                    "execution_count": 1,
                    "data": {
                        "text/plain": "int"
                    },
                    "metadata": {}
                }
            ]
        },
        {
            "metadata": {},
            "cell_type": "code",
            "source": "type('42')",
            "execution_count": 2,
            "outputs": [
                {
                    "output_type": "execute_result",
                    "execution_count": 2,
                    "data": {
                        "text/plain": "str"
                    },
                    "metadata": {}
                }
            ]
        },
        {
            "metadata": {},
            "cell_type": "code",
            "source": "type(42.0)",
            "execution_count": 3,
            "outputs": [
                {
                    "output_type": "execute_result",
                    "execution_count": 3,
                    "data": {
                        "text/plain": "float"
                    },
                    "metadata": {}
                }
            ]
        },
        {
            "metadata": {},
            "cell_type": "markdown",
            "source": "##### CONVERTING TO INT"
        },
        {
            "metadata": {},
            "cell_type": "code",
            "source": "## converting to int\nint('3')",
            "execution_count": 4,
            "outputs": [
                {
                    "output_type": "execute_result",
                    "execution_count": 4,
                    "data": {
                        "text/plain": "3"
                    },
                    "metadata": {}
                }
            ]
        },
        {
            "metadata": {},
            "cell_type": "code",
            "source": "## int('pot') ## doesn't work because pot is word",
            "execution_count": 5,
            "outputs": []
        },
        {
            "metadata": {},
            "cell_type": "code",
            "source": "int(3.999)",
            "execution_count": 6,
            "outputs": [
                {
                    "output_type": "execute_result",
                    "execution_count": 6,
                    "data": {
                        "text/plain": "3"
                    },
                    "metadata": {}
                }
            ]
        },
        {
            "metadata": {},
            "cell_type": "markdown",
            "source": "##### CONVERTING TO STRING"
        },
        {
            "metadata": {},
            "cell_type": "code",
            "source": "str(3)",
            "execution_count": 7,
            "outputs": [
                {
                    "output_type": "execute_result",
                    "execution_count": 7,
                    "data": {
                        "text/plain": "'3'"
                    },
                    "metadata": {}
                }
            ]
        },
        {
            "metadata": {},
            "cell_type": "code",
            "source": "str(45.43)",
            "execution_count": 8,
            "outputs": [
                {
                    "output_type": "execute_result",
                    "execution_count": 8,
                    "data": {
                        "text/plain": "'45.43'"
                    },
                    "metadata": {}
                }
            ]
        },
        {
            "metadata": {},
            "cell_type": "markdown",
            "source": "##### CONVERTING TO FLOAT"
        },
        {
            "metadata": {},
            "cell_type": "code",
            "source": "float(45)",
            "execution_count": 9,
            "outputs": [
                {
                    "output_type": "execute_result",
                    "execution_count": 9,
                    "data": {
                        "text/plain": "45.0"
                    },
                    "metadata": {}
                }
            ]
        },
        {
            "metadata": {},
            "cell_type": "code",
            "source": "float('69')",
            "execution_count": 10,
            "outputs": [
                {
                    "output_type": "execute_result",
                    "execution_count": 10,
                    "data": {
                        "text/plain": "69.0"
                    },
                    "metadata": {}
                }
            ]
        },
        {
            "metadata": {},
            "cell_type": "markdown",
            "source": "#### MATH FUNCTION"
        },
        {
            "metadata": {},
            "cell_type": "code",
            "source": "import math",
            "execution_count": 11,
            "outputs": []
        },
        {
            "metadata": {},
            "cell_type": "code",
            "source": "ratio = 10/20\ndecibels = math.log10(ratio)\ndecibels",
            "execution_count": 12,
            "outputs": [
                {
                    "output_type": "execute_result",
                    "execution_count": 12,
                    "data": {
                        "text/plain": "-0.3010299956639812"
                    },
                    "metadata": {}
                }
            ]
        },
        {
            "metadata": {},
            "cell_type": "code",
            "source": "radians = 0.7\nheight = math.sin(radians)",
            "execution_count": 13,
            "outputs": []
        },
        {
            "metadata": {},
            "cell_type": "code",
            "source": "math.sqrt(100) +59",
            "execution_count": 14,
            "outputs": [
                {
                    "output_type": "execute_result",
                    "execution_count": 14,
                    "data": {
                        "text/plain": "69.0"
                    },
                    "metadata": {}
                }
            ]
        },
        {
            "metadata": {},
            "cell_type": "markdown",
            "source": "#### COMPOSITION"
        },
        {
            "metadata": {},
            "cell_type": "code",
            "source": "degrees = 90\nx = math.sin(degrees/360.0*2*math.pi)",
            "execution_count": 15,
            "outputs": []
        },
        {
            "metadata": {},
            "cell_type": "code",
            "source": "x = math.exp(math.log(x+1))\nx",
            "execution_count": 16,
            "outputs": [
                {
                    "output_type": "execute_result",
                    "execution_count": 16,
                    "data": {
                        "text/plain": "2.0"
                    },
                    "metadata": {}
                }
            ]
        },
        {
            "metadata": {},
            "cell_type": "markdown",
            "source": "#### NEW FUNCTIONS"
        },
        {
            "metadata": {},
            "cell_type": "code",
            "source": "def print_words():\n    print('I need some shit with some bop in it')",
            "execution_count": 17,
            "outputs": []
        },
        {
            "metadata": {},
            "cell_type": "code",
            "source": "print_words()",
            "execution_count": 18,
            "outputs": [
                {
                    "output_type": "stream",
                    "text": "I need some shit with some bop in it\n",
                    "name": "stdout"
                }
            ]
        },
        {
            "metadata": {},
            "cell_type": "code",
            "source": "def repeat():\n    print_words()\n    print_words()",
            "execution_count": 19,
            "outputs": []
        },
        {
            "metadata": {},
            "cell_type": "code",
            "source": "repeat()",
            "execution_count": 20,
            "outputs": [
                {
                    "output_type": "stream",
                    "text": "I need some shit with some bop in it\nI need some shit with some bop in it\n",
                    "name": "stdout"
                }
            ]
        },
        {
            "metadata": {},
            "cell_type": "markdown",
            "source": "#### FLOW OF EXECUTION"
        },
        {
            "metadata": {},
            "cell_type": "code",
            "source": "def print_word(word):\n    print(word)\n    print(word)",
            "execution_count": 21,
            "outputs": []
        },
        {
            "metadata": {},
            "cell_type": "code",
            "source": "print_word('Spam!')",
            "execution_count": 22,
            "outputs": [
                {
                    "output_type": "stream",
                    "text": "Spam!\nSpam!\n",
                    "name": "stdout"
                }
            ]
        },
        {
            "metadata": {},
            "cell_type": "code",
            "source": "print_word(420)",
            "execution_count": 23,
            "outputs": [
                {
                    "output_type": "stream",
                    "text": "420\n420\n",
                    "name": "stdout"
                }
            ]
        },
        {
            "metadata": {},
            "cell_type": "code",
            "source": "print_word('Spam '*4)",
            "execution_count": 24,
            "outputs": [
                {
                    "output_type": "stream",
                    "text": "Spam Spam Spam Spam \nSpam Spam Spam Spam \n",
                    "name": "stdout"
                }
            ]
        },
        {
            "metadata": {},
            "cell_type": "code",
            "source": "def new_word(one,two):\n    okay = one + two\n    print_word(okay)",
            "execution_count": 25,
            "outputs": []
        },
        {
            "metadata": {},
            "cell_type": "code",
            "source": "new_word('Fifty ', 'Cents')",
            "execution_count": 26,
            "outputs": [
                {
                    "output_type": "stream",
                    "text": "Fifty Cents\nFifty Cents\n",
                    "name": "stdout"
                }
            ]
        },
        {
            "metadata": {},
            "cell_type": "markdown",
            "source": "###### ASSIGNMENT"
        },
        {
            "metadata": {},
            "cell_type": "code",
            "source": "def right_justify(s):\n    n = 70 - len(s)\n    print(\" \"*n,s)",
            "execution_count": 27,
            "outputs": []
        },
        {
            "metadata": {},
            "cell_type": "code",
            "source": "right_justify('Gerrard')",
            "execution_count": 28,
            "outputs": [
                {
                    "output_type": "stream",
                    "text": "                                                                Gerrard\n",
                    "name": "stdout"
                }
            ]
        },
        {
            "metadata": {},
            "cell_type": "code",
            "source": "right_justify('Ibrahimovic')",
            "execution_count": 29,
            "outputs": [
                {
                    "output_type": "stream",
                    "text": "                                                            Ibrahimovic\n",
                    "name": "stdout"
                }
            ]
        },
        {
            "metadata": {},
            "cell_type": "code",
            "source": "right_justify('Jay-Z')",
            "execution_count": 30,
            "outputs": [
                {
                    "output_type": "stream",
                    "text": "                                                                  Jay-Z\n",
                    "name": "stdout"
                }
            ]
        },
        {
            "metadata": {},
            "cell_type": "code",
            "source": "def do_twice(f):\n    f()\n    f()",
            "execution_count": 71,
            "outputs": []
        },
        {
            "metadata": {},
            "cell_type": "code",
            "source": "def print_smth():\n    print('USA')",
            "execution_count": 55,
            "outputs": []
        },
        {
            "metadata": {},
            "cell_type": "code",
            "source": "do_twice(print_word)",
            "execution_count": 57,
            "outputs": [
                {
                    "output_type": "stream",
                    "text": "USA\nUSA\nUSA\nUSA\n",
                    "name": "stdout"
                }
            ]
        },
        {
            "metadata": {},
            "cell_type": "code",
            "source": "def do_four(f):\n    do_twice(f)\n    do_twice(f)",
            "execution_count": 72,
            "outputs": []
        },
        {
            "metadata": {},
            "cell_type": "code",
            "source": "do_four(print_word)",
            "execution_count": 67,
            "outputs": [
                {
                    "output_type": "stream",
                    "text": "USA\nUSA\nUSA\nUSA\nUSA\nUSA\nUSA\nUSA\n",
                    "name": "stdout"
                }
            ]
        },
        {
            "metadata": {},
            "cell_type": "code",
            "source": "def mixed_row():\n    print('+','-'*4,'+','-'*4,'+','-'*4,'+','-'*4,'+')",
            "execution_count": 75,
            "outputs": []
        },
        {
            "metadata": {},
            "cell_type": "code",
            "source": "def spaced_row():\n    print('|', ' '*4, '|', ' '*4, '|',' '*4, '|', ' '*4, '|')",
            "execution_count": 76,
            "outputs": []
        },
        {
            "metadata": {},
            "cell_type": "code",
            "source": "def art():\n    mixed_row()\n    do_four(spaced_row)\n    mixed_row()\n    do_four(spaced_row)\n    mixed_row()\n    do_four(spaced_row)\n    mixed_row()\n    do_four(spaced_row)\n    mixed_row()",
            "execution_count": 77,
            "outputs": []
        },
        {
            "metadata": {},
            "cell_type": "code",
            "source": "art()",
            "execution_count": 78,
            "outputs": [
                {
                    "output_type": "stream",
                    "text": "+ ---- + ---- + ---- + ---- +\n|      |      |      |      |\n|      |      |      |      |\n|      |      |      |      |\n|      |      |      |      |\n+ ---- + ---- + ---- + ---- +\n|      |      |      |      |\n|      |      |      |      |\n|      |      |      |      |\n|      |      |      |      |\n+ ---- + ---- + ---- + ---- +\n|      |      |      |      |\n|      |      |      |      |\n|      |      |      |      |\n|      |      |      |      |\n+ ---- + ---- + ---- + ---- +\n|      |      |      |      |\n|      |      |      |      |\n|      |      |      |      |\n|      |      |      |      |\n+ ---- + ---- + ---- + ---- +\n",
                    "name": "stdout"
                }
            ]
        },
        {
            "metadata": {},
            "cell_type": "code",
            "source": "",
            "execution_count": null,
            "outputs": []
        }
    ],
    "metadata": {
        "kernelspec": {
            "name": "python3",
            "display_name": "Python 3.6",
            "language": "python"
        },
        "language_info": {
            "name": "python",
            "version": "3.6.9",
            "mimetype": "text/x-python",
            "codemirror_mode": {
                "name": "ipython",
                "version": 3
            },
            "pygments_lexer": "ipython3",
            "nbconvert_exporter": "python",
            "file_extension": ".py"
        }
    },
    "nbformat": 4,
    "nbformat_minor": 1
}
