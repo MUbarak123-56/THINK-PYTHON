{
    "cells": [
        {
            "metadata": {
                "collapsed": true
            },
            "cell_type": "markdown",
            "source": "# FILES"
        },
        {
            "metadata": {},
            "cell_type": "markdown",
            "source": "### READING AND WRITING"
        },
        {
            "metadata": {},
            "cell_type": "code",
            "source": "fout = open('output.txt', 'w')",
            "execution_count": 1,
            "outputs": []
        },
        {
            "metadata": {},
            "cell_type": "code",
            "source": "line1 = \"This here's the wattle,\\n\" ",
            "execution_count": 2,
            "outputs": []
        },
        {
            "metadata": {},
            "cell_type": "code",
            "source": "fout.write(line1) ",
            "execution_count": 3,
            "outputs": [
                {
                    "output_type": "execute_result",
                    "execution_count": 3,
                    "data": {
                        "text/plain": "24"
                    },
                    "metadata": {}
                }
            ]
        },
        {
            "metadata": {},
            "cell_type": "code",
            "source": "line2 = \"the emblem of our land.\\n\"",
            "execution_count": 4,
            "outputs": []
        },
        {
            "metadata": {},
            "cell_type": "code",
            "source": "fout.write(line2)",
            "execution_count": 5,
            "outputs": [
                {
                    "output_type": "execute_result",
                    "execution_count": 5,
                    "data": {
                        "text/plain": "24"
                    },
                    "metadata": {}
                }
            ]
        },
        {
            "metadata": {},
            "cell_type": "markdown",
            "source": "### FORMAT OPERATOR"
        },
        {
            "metadata": {},
            "cell_type": "code",
            "source": "x = 52\nfout = open('output.txt', 'w')\nfout.write(str(x))",
            "execution_count": 6,
            "outputs": [
                {
                    "output_type": "execute_result",
                    "execution_count": 6,
                    "data": {
                        "text/plain": "2"
                    },
                    "metadata": {}
                }
            ]
        },
        {
            "metadata": {},
            "cell_type": "code",
            "source": "camels = 42 \n'%d' % camels ",
            "execution_count": 7,
            "outputs": [
                {
                    "output_type": "execute_result",
                    "execution_count": 7,
                    "data": {
                        "text/plain": "'42'"
                    },
                    "metadata": {}
                }
            ]
        },
        {
            "metadata": {},
            "cell_type": "code",
            "source": "'I have spotted %d camels.' % camels ",
            "execution_count": 8,
            "outputs": [
                {
                    "output_type": "execute_result",
                    "execution_count": 8,
                    "data": {
                        "text/plain": "'I have spotted 42 camels.'"
                    },
                    "metadata": {}
                }
            ]
        },
        {
            "metadata": {},
            "cell_type": "code",
            "source": "'In %d years I have spotted %g %s.' % (3, 0.1, 'camels') ## %d is used for numbers, %g is used for decimals and %s is used for strings",
            "execution_count": 9,
            "outputs": [
                {
                    "output_type": "execute_result",
                    "execution_count": 9,
                    "data": {
                        "text/plain": "'In 3 years I have spotted 0.1 camels.'"
                    },
                    "metadata": {}
                }
            ]
        },
        {
            "metadata": {},
            "cell_type": "markdown",
            "source": "### FILENAMES AND PATHS"
        },
        {
            "metadata": {},
            "cell_type": "code",
            "source": "import os",
            "execution_count": 10,
            "outputs": []
        },
        {
            "metadata": {},
            "cell_type": "code",
            "source": "cwd = os.getcwd() \ncwd",
            "execution_count": 11,
            "outputs": [
                {
                    "output_type": "execute_result",
                    "execution_count": 11,
                    "data": {
                        "text/plain": "'/home/dsxuser/work'"
                    },
                    "metadata": {}
                }
            ]
        },
        {
            "metadata": {},
            "cell_type": "code",
            "source": "os.path.abspath('output.txt') ",
            "execution_count": 12,
            "outputs": [
                {
                    "output_type": "execute_result",
                    "execution_count": 12,
                    "data": {
                        "text/plain": "'/home/dsxuser/work/output.txt'"
                    },
                    "metadata": {}
                }
            ]
        },
        {
            "metadata": {},
            "cell_type": "code",
            "source": "os.path.exists('output.txt')",
            "execution_count": 13,
            "outputs": [
                {
                    "output_type": "execute_result",
                    "execution_count": 13,
                    "data": {
                        "text/plain": "True"
                    },
                    "metadata": {}
                }
            ]
        },
        {
            "metadata": {},
            "cell_type": "code",
            "source": "os.path.isdir('output.txt') ",
            "execution_count": 14,
            "outputs": [
                {
                    "output_type": "execute_result",
                    "execution_count": 14,
                    "data": {
                        "text/plain": "False"
                    },
                    "metadata": {}
                }
            ]
        },
        {
            "metadata": {},
            "cell_type": "code",
            "source": "os.path.isdir('/home/dsxuser/work')",
            "execution_count": 16,
            "outputs": [
                {
                    "output_type": "execute_result",
                    "execution_count": 16,
                    "data": {
                        "text/plain": "True"
                    },
                    "metadata": {}
                }
            ]
        },
        {
            "metadata": {},
            "cell_type": "code",
            "source": "os.listdir(cwd) ## for printing out the names of all the files in the working directory",
            "execution_count": 17,
            "outputs": [
                {
                    "output_type": "execute_result",
                    "execution_count": 17,
                    "data": {
                        "text/plain": "['output.txt']"
                    },
                    "metadata": {}
                }
            ]
        },
        {
            "metadata": {},
            "cell_type": "code",
            "source": "def walk(dirname): \n    for name in os.listdir(dirname): \n        path = os.path.join(dirname, name)\n    if os.path.isfile(path): \n        print(path) \n    else:\n        walk(path)\nwalk(cwd)",
            "execution_count": 19,
            "outputs": [
                {
                    "output_type": "stream",
                    "text": "/home/dsxuser/work/output.txt\n",
                    "name": "stdout"
                }
            ]
        },
        {
            "metadata": {},
            "cell_type": "markdown",
            "source": "### CATCHING EXCEPTIONS"
        },
        {
            "metadata": {},
            "cell_type": "code",
            "source": "fin = open('bad_file') ## reports an error because it is not the right manner to open a file",
            "execution_count": 20,
            "outputs": [
                {
                    "output_type": "error",
                    "ename": "FileNotFoundError",
                    "evalue": "[Errno 2] No such file or directory: 'bad_file'",
                    "traceback": [
                        "\u001b[0;31m---------------------------------------------------------------------------\u001b[0m",
                        "\u001b[0;31mFileNotFoundError\u001b[0m                         Traceback (most recent call last)",
                        "\u001b[0;32m<ipython-input-20-a7d7d7ad396b>\u001b[0m in \u001b[0;36m<module>\u001b[0;34m\u001b[0m\n\u001b[0;32m----> 1\u001b[0;31m \u001b[0mfin\u001b[0m \u001b[0;34m=\u001b[0m \u001b[0mopen\u001b[0m\u001b[0;34m(\u001b[0m\u001b[0;34m'bad_file'\u001b[0m\u001b[0;34m)\u001b[0m\u001b[0;34m\u001b[0m\u001b[0;34m\u001b[0m\u001b[0m\n\u001b[0m",
                        "\u001b[0;31mFileNotFoundError\u001b[0m: [Errno 2] No such file or directory: 'bad_file'"
                    ]
                }
            ]
        },
        {
            "metadata": {},
            "cell_type": "code",
            "source": "fout = open('/etc/passwd', 'w') ## reports an error because there is no permission to open such file",
            "execution_count": 21,
            "outputs": [
                {
                    "output_type": "error",
                    "ename": "PermissionError",
                    "evalue": "[Errno 13] Permission denied: '/etc/passwd'",
                    "traceback": [
                        "\u001b[0;31m---------------------------------------------------------------------------\u001b[0m",
                        "\u001b[0;31mPermissionError\u001b[0m                           Traceback (most recent call last)",
                        "\u001b[0;32m<ipython-input-21-8a9adb191927>\u001b[0m in \u001b[0;36m<module>\u001b[0;34m\u001b[0m\n\u001b[0;32m----> 1\u001b[0;31m \u001b[0mfout\u001b[0m \u001b[0;34m=\u001b[0m \u001b[0mopen\u001b[0m\u001b[0;34m(\u001b[0m\u001b[0;34m'/etc/passwd'\u001b[0m\u001b[0;34m,\u001b[0m \u001b[0;34m'w'\u001b[0m\u001b[0;34m)\u001b[0m\u001b[0;34m\u001b[0m\u001b[0;34m\u001b[0m\u001b[0m\n\u001b[0m",
                        "\u001b[0;31mPermissionError\u001b[0m: [Errno 13] Permission denied: '/etc/passwd'"
                    ]
                }
            ]
        },
        {
            "metadata": {},
            "cell_type": "code",
            "source": "fin = open('/home') ",
            "execution_count": 22,
            "outputs": [
                {
                    "output_type": "error",
                    "ename": "IsADirectoryError",
                    "evalue": "[Errno 21] Is a directory: '/home'",
                    "traceback": [
                        "\u001b[0;31m---------------------------------------------------------------------------\u001b[0m",
                        "\u001b[0;31mIsADirectoryError\u001b[0m                         Traceback (most recent call last)",
                        "\u001b[0;32m<ipython-input-22-d488094a8026>\u001b[0m in \u001b[0;36m<module>\u001b[0;34m\u001b[0m\n\u001b[0;32m----> 1\u001b[0;31m \u001b[0mfin\u001b[0m \u001b[0;34m=\u001b[0m \u001b[0mopen\u001b[0m\u001b[0;34m(\u001b[0m\u001b[0;34m'/home'\u001b[0m\u001b[0;34m)\u001b[0m\u001b[0;34m\u001b[0m\u001b[0;34m\u001b[0m\u001b[0m\n\u001b[0m",
                        "\u001b[0;31mIsADirectoryError\u001b[0m: [Errno 21] Is a directory: '/home'"
                    ]
                }
            ]
        },
        {
            "metadata": {},
            "cell_type": "code",
            "source": "try:\n    fin = open('bad_file') \nexcept: \n    print('Something went wrong.')",
            "execution_count": 23,
            "outputs": [
                {
                    "output_type": "stream",
                    "text": "Something went wrong.\n",
                    "name": "stdout"
                }
            ]
        },
        {
            "metadata": {},
            "cell_type": "markdown",
            "source": "### DATABASES"
        },
        {
            "metadata": {},
            "cell_type": "code",
            "source": "import dbm ",
            "execution_count": 24,
            "outputs": []
        },
        {
            "metadata": {},
            "cell_type": "code",
            "source": "db = dbm.open('captions', 'c') ## 'c' is for creating",
            "execution_count": 25,
            "outputs": []
        },
        {
            "metadata": {},
            "cell_type": "code",
            "source": "db['cleese.png'] = 'Photo of John Cleese.' ",
            "execution_count": 26,
            "outputs": []
        },
        {
            "metadata": {},
            "cell_type": "code",
            "source": "db['cleese.png']",
            "execution_count": 27,
            "outputs": [
                {
                    "output_type": "execute_result",
                    "execution_count": 27,
                    "data": {
                        "text/plain": "b'Photo of John Cleese.'"
                    },
                    "metadata": {}
                }
            ]
        },
        {
            "metadata": {},
            "cell_type": "code",
            "source": "db['cleese.png'] = 'Photo of John Cleese doing a silly walk.' ",
            "execution_count": 28,
            "outputs": []
        },
        {
            "metadata": {},
            "cell_type": "code",
            "source": "db['cleese.png']",
            "execution_count": 29,
            "outputs": [
                {
                    "output_type": "execute_result",
                    "execution_count": 29,
                    "data": {
                        "text/plain": "b'Photo of John Cleese doing a silly walk.'"
                    },
                    "metadata": {}
                }
            ]
        },
        {
            "metadata": {},
            "cell_type": "code",
            "source": "for key in db: \n    print(key, db[key]) ",
            "execution_count": 30,
            "outputs": [
                {
                    "output_type": "stream",
                    "text": "b'cleese.png' b'Photo of John Cleese doing a silly walk.'\n",
                    "name": "stdout"
                }
            ]
        },
        {
            "metadata": {},
            "cell_type": "code",
            "source": "db.close()",
            "execution_count": 31,
            "outputs": []
        },
        {
            "metadata": {},
            "cell_type": "markdown",
            "source": "### PICKLING"
        },
        {
            "metadata": {},
            "cell_type": "code",
            "source": "import pickle ## pickle is used to convert non-strings to strings\nt = [1, 2, 3]\npickle.dumps(t) ",
            "execution_count": 32,
            "outputs": [
                {
                    "output_type": "execute_result",
                    "execution_count": 32,
                    "data": {
                        "text/plain": "b'\\x80\\x03]q\\x00(K\\x01K\\x02K\\x03e.'"
                    },
                    "metadata": {}
                }
            ]
        },
        {
            "metadata": {},
            "cell_type": "code",
            "source": "t1 = [1, 2, 3] \ns = pickle.dumps(t1) \nt2 = pickle.loads(s) ## this provides a readable version after pickle.dumps is applied\nt2 ",
            "execution_count": 33,
            "outputs": [
                {
                    "output_type": "execute_result",
                    "execution_count": 33,
                    "data": {
                        "text/plain": "[1, 2, 3]"
                    },
                    "metadata": {}
                }
            ]
        },
        {
            "metadata": {},
            "cell_type": "code",
            "source": "t1 == t2 ## The new value is the same as the old",
            "execution_count": 34,
            "outputs": [
                {
                    "output_type": "execute_result",
                    "execution_count": 34,
                    "data": {
                        "text/plain": "True"
                    },
                    "metadata": {}
                }
            ]
        },
        {
            "metadata": {},
            "cell_type": "code",
            "source": "t1 is t2 ## The new object is different from the old",
            "execution_count": 35,
            "outputs": [
                {
                    "output_type": "execute_result",
                    "execution_count": 35,
                    "data": {
                        "text/plain": "False"
                    },
                    "metadata": {}
                }
            ]
        },
        {
            "metadata": {},
            "cell_type": "markdown",
            "source": "### PIPES"
        },
        {
            "metadata": {},
            "cell_type": "code",
            "source": "cmd = 'ls -l'",
            "execution_count": 36,
            "outputs": []
        },
        {
            "metadata": {},
            "cell_type": "code",
            "source": "fp = os.popen(cmd)",
            "execution_count": 37,
            "outputs": []
        },
        {
            "metadata": {},
            "cell_type": "code",
            "source": "res = fp.read() ",
            "execution_count": 38,
            "outputs": []
        },
        {
            "metadata": {},
            "cell_type": "code",
            "source": "stat = fp.close() ",
            "execution_count": 39,
            "outputs": []
        },
        {
            "metadata": {},
            "cell_type": "code",
            "source": "print(stat) ",
            "execution_count": 40,
            "outputs": [
                {
                    "output_type": "stream",
                    "text": "None\n",
                    "name": "stdout"
                }
            ]
        },
        {
            "metadata": {},
            "cell_type": "code",
            "source": "filename = 'book.tex'",
            "execution_count": 41,
            "outputs": []
        },
        {
            "metadata": {},
            "cell_type": "code",
            "source": "cmd = 'md5sum ' + filename ",
            "execution_count": 42,
            "outputs": []
        },
        {
            "metadata": {},
            "cell_type": "code",
            "source": "fp = os.popen(cmd) ",
            "execution_count": 43,
            "outputs": []
        },
        {
            "metadata": {},
            "cell_type": "code",
            "source": "res = fp.read()",
            "execution_count": 44,
            "outputs": []
        },
        {
            "metadata": {},
            "cell_type": "code",
            "source": "stat = fp.close() ",
            "execution_count": 45,
            "outputs": []
        },
        {
            "metadata": {},
            "cell_type": "code",
            "source": "print(res)",
            "execution_count": 46,
            "outputs": [
                {
                    "output_type": "stream",
                    "text": "\n",
                    "name": "stdout"
                }
            ]
        },
        {
            "metadata": {},
            "cell_type": "code",
            "source": "print(stat)",
            "execution_count": 47,
            "outputs": [
                {
                    "output_type": "stream",
                    "text": "256\n",
                    "name": "stdout"
                }
            ]
        },
        {
            "metadata": {},
            "cell_type": "code",
            "source": "",
            "execution_count": null,
            "outputs": []
        }
    ],
    "metadata": {
        "kernelspec": {
            "name": "python3",
            "display_name": "Python 3.6",
            "language": "python"
        },
        "language_info": {
            "name": "python",
            "version": "3.6.9",
            "mimetype": "text/x-python",
            "codemirror_mode": {
                "name": "ipython",
                "version": 3
            },
            "pygments_lexer": "ipython3",
            "nbconvert_exporter": "python",
            "file_extension": ".py"
        }
    },
    "nbformat": 4,
    "nbformat_minor": 1
}