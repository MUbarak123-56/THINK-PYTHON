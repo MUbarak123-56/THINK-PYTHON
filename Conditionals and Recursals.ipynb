{
    "cells": [
        {
            "metadata": {
                "collapsed": true
            },
            "cell_type": "markdown",
            "source": "# CONDITIONALS AND RECURSALS"
        },
        {
            "metadata": {},
            "cell_type": "markdown",
            "source": "### FLOOR DIVISION AND MODULUS"
        },
        {
            "metadata": {},
            "cell_type": "code",
            "source": "minutes = 105 \nhours = minutes/60 ## REGULAR DIVISION\nhours",
            "execution_count": 2,
            "outputs": [
                {
                    "output_type": "execute_result",
                    "execution_count": 2,
                    "data": {
                        "text/plain": "1.75"
                    },
                    "metadata": {}
                }
            ]
        },
        {
            "metadata": {},
            "cell_type": "code",
            "source": "hours = minutes//60 ## INTEGER DIVISION\nhours",
            "execution_count": 3,
            "outputs": [
                {
                    "output_type": "execute_result",
                    "execution_count": 3,
                    "data": {
                        "text/plain": "1"
                    },
                    "metadata": {}
                }
            ]
        },
        {
            "metadata": {},
            "cell_type": "code",
            "source": "remainder = minutes - hours*60\nremainder ",
            "execution_count": 4,
            "outputs": [
                {
                    "output_type": "execute_result",
                    "execution_count": 4,
                    "data": {
                        "text/plain": "45"
                    },
                    "metadata": {}
                }
            ]
        },
        {
            "metadata": {},
            "cell_type": "code",
            "source": "remainder = minutes % 60\nremainder ## modulus",
            "execution_count": 5,
            "outputs": [
                {
                    "output_type": "execute_result",
                    "execution_count": 5,
                    "data": {
                        "text/plain": "45"
                    },
                    "metadata": {}
                }
            ]
        },
        {
            "metadata": {},
            "cell_type": "markdown",
            "source": "### BOOLEAN EXPRESSIONS"
        },
        {
            "metadata": {},
            "cell_type": "code",
            "source": "5 == 5",
            "execution_count": 6,
            "outputs": [
                {
                    "output_type": "execute_result",
                    "execution_count": 6,
                    "data": {
                        "text/plain": "True"
                    },
                    "metadata": {}
                }
            ]
        },
        {
            "metadata": {},
            "cell_type": "code",
            "source": "5 == 6",
            "execution_count": 7,
            "outputs": [
                {
                    "output_type": "execute_result",
                    "execution_count": 7,
                    "data": {
                        "text/plain": "False"
                    },
                    "metadata": {}
                }
            ]
        },
        {
            "metadata": {},
            "cell_type": "code",
            "source": "type(True)",
            "execution_count": 9,
            "outputs": [
                {
                    "output_type": "execute_result",
                    "execution_count": 9,
                    "data": {
                        "text/plain": "bool"
                    },
                    "metadata": {}
                }
            ]
        },
        {
            "metadata": {},
            "cell_type": "code",
            "source": "## Other boolean expressions\n5 != 4",
            "execution_count": 10,
            "outputs": [
                {
                    "output_type": "execute_result",
                    "execution_count": 10,
                    "data": {
                        "text/plain": "True"
                    },
                    "metadata": {}
                }
            ]
        },
        {
            "metadata": {},
            "cell_type": "code",
            "source": "5 > 4",
            "execution_count": 11,
            "outputs": [
                {
                    "output_type": "execute_result",
                    "execution_count": 11,
                    "data": {
                        "text/plain": "True"
                    },
                    "metadata": {}
                }
            ]
        },
        {
            "metadata": {},
            "cell_type": "code",
            "source": "5 < 4",
            "execution_count": 12,
            "outputs": [
                {
                    "output_type": "execute_result",
                    "execution_count": 12,
                    "data": {
                        "text/plain": "False"
                    },
                    "metadata": {}
                }
            ]
        },
        {
            "metadata": {},
            "cell_type": "code",
            "source": "5 >= 4",
            "execution_count": 14,
            "outputs": [
                {
                    "output_type": "execute_result",
                    "execution_count": 14,
                    "data": {
                        "text/plain": "True"
                    },
                    "metadata": {}
                }
            ]
        },
        {
            "metadata": {},
            "cell_type": "code",
            "source": "5 <= 4",
            "execution_count": 15,
            "outputs": [
                {
                    "output_type": "execute_result",
                    "execution_count": 15,
                    "data": {
                        "text/plain": "False"
                    },
                    "metadata": {}
                }
            ]
        },
        {
            "metadata": {},
            "cell_type": "markdown",
            "source": "### LOGICAL OPERATORS "
        },
        {
            "metadata": {},
            "cell_type": "code",
            "source": "42 and True",
            "execution_count": 16,
            "outputs": [
                {
                    "output_type": "execute_result",
                    "execution_count": 16,
                    "data": {
                        "text/plain": "True"
                    },
                    "metadata": {}
                }
            ]
        },
        {
            "metadata": {},
            "cell_type": "code",
            "source": "5 and 6",
            "execution_count": 47,
            "outputs": [
                {
                    "output_type": "execute_result",
                    "execution_count": 47,
                    "data": {
                        "text/plain": "6"
                    },
                    "metadata": {}
                }
            ]
        },
        {
            "metadata": {},
            "cell_type": "code",
            "source": "n = 10",
            "execution_count": 17,
            "outputs": []
        },
        {
            "metadata": {},
            "cell_type": "code",
            "source": "n % 2 == 0",
            "execution_count": 18,
            "outputs": [
                {
                    "output_type": "execute_result",
                    "execution_count": 18,
                    "data": {
                        "text/plain": "True"
                    },
                    "metadata": {}
                }
            ]
        },
        {
            "metadata": {},
            "cell_type": "code",
            "source": "n % 3 == 0",
            "execution_count": 19,
            "outputs": [
                {
                    "output_type": "execute_result",
                    "execution_count": 19,
                    "data": {
                        "text/plain": "False"
                    },
                    "metadata": {}
                }
            ]
        },
        {
            "metadata": {},
            "cell_type": "markdown",
            "source": "### CONDITIONAL EXECUTION"
        },
        {
            "metadata": {},
            "cell_type": "code",
            "source": "name = \"What is x? \"\nx = int(input(name))\nif (x % 2 == 0):\n    print('x is even')\nelse:\n    print('x is odd')",
            "execution_count": 26,
            "outputs": [
                {
                    "output_type": "stream",
                    "name": "stdout",
                    "text": "What is x? 23\nx is odd\n"
                }
            ]
        },
        {
            "metadata": {},
            "cell_type": "markdown",
            "source": "###  CHAINED CONDITIONALS"
        },
        {
            "metadata": {},
            "cell_type": "code",
            "source": "num1 = \"What is x? \"\nnum2 = \"What is y? \"\nx = int(input(num1))\ny = int(input(num2))\nif x < y: \n    print('x is less than y') \nelif x > y: \n    print('x is greater than y') \nelse: \n    print('x and y are equal')",
            "execution_count": 28,
            "outputs": [
                {
                    "output_type": "stream",
                    "name": "stdout",
                    "text": "What is x? 10\nWhat is y? 10\nx and y are equal\n"
                }
            ]
        },
        {
            "metadata": {},
            "cell_type": "markdown",
            "source": "### NESTED CONDITIONALS"
        },
        {
            "metadata": {},
            "cell_type": "code",
            "source": "num1 = \"What is x? \"\nnum2 = \"What is y? \"\nx = int(input(num1))\ny = int(input(num2))\nif x == y:\n    print('x and y are equal') \nelse:\n    if x < y: \n        print('x is less than y') \n    else: \n        print('x is greater than y')",
            "execution_count": 31,
            "outputs": [
                {
                    "output_type": "stream",
                    "name": "stdout",
                    "text": "What is x? 15\nWhat is y? 24\nx is less than y\n"
                }
            ]
        },
        {
            "metadata": {},
            "cell_type": "code",
            "source": "x = 6\nif 0 < x:\n    if x < 10: \n        print('x is a positive single-digit number.')",
            "execution_count": 32,
            "outputs": [
                {
                    "output_type": "stream",
                    "text": "x is a positive single-digit number.\n",
                    "name": "stdout"
                }
            ]
        },
        {
            "metadata": {},
            "cell_type": "code",
            "source": "x = 5\nif 0 < x < 10: \n    print('x is a positive single-digit number.')\n",
            "execution_count": 33,
            "outputs": [
                {
                    "output_type": "stream",
                    "text": "x is a positive single-digit number.\n",
                    "name": "stdout"
                }
            ]
        },
        {
            "metadata": {},
            "cell_type": "markdown",
            "source": "### RECURSION"
        },
        {
            "metadata": {},
            "cell_type": "code",
            "source": "num1 = \"What is your magic number? \"\nn = int(input(num1))\ndef countdown(n): \n    if n <= 0: \n        print('Blastoff!') \n    else: \n        print(n)\n        countdown(n-1) \ncountdown(n)",
            "execution_count": 38,
            "outputs": [
                {
                    "output_type": "stream",
                    "name": "stdout",
                    "text": "What is your magic number? 6\n6\n5\n4\n3\n2\n1\nBlastoff!\n"
                }
            ]
        },
        {
            "metadata": {},
            "cell_type": "code",
            "source": "def print_n(s, n):\n    if n <= 0: \n        return \n    print(s) \n    print_n(s, n-1)\nprint_n(\"Word\", 5)",
            "execution_count": 39,
            "outputs": [
                {
                    "output_type": "stream",
                    "text": "Word\nWord\nWord\nWord\nWord\n",
                    "name": "stdout"
                }
            ]
        },
        {
            "metadata": {},
            "cell_type": "markdown",
            "source": "### KEYBOARD INPUT"
        },
        {
            "metadata": {},
            "cell_type": "code",
            "source": "text = input()",
            "execution_count": 40,
            "outputs": [
                {
                    "output_type": "stream",
                    "name": "stdout",
                    "text": "What is your name?\n"
                }
            ]
        },
        {
            "metadata": {},
            "cell_type": "code",
            "source": "name = \"What is your name? \\n \"\nwe = input(name)",
            "execution_count": 41,
            "outputs": [
                {
                    "output_type": "stream",
                    "name": "stdout",
                    "text": "How are you? I'm good\n"
                }
            ]
        },
        {
            "metadata": {},
            "cell_type": "code",
            "source": "we = input(\"What is your name? \\n\")\nwe",
            "execution_count": 44,
            "outputs": [
                {
                    "output_type": "stream",
                    "name": "stdout",
                    "text": "What is your name? \nMubarak\n"
                },
                {
                    "output_type": "execute_result",
                    "execution_count": 44,
                    "data": {
                        "text/plain": "'Mubarak'"
                    },
                    "metadata": {}
                }
            ]
        },
        {
            "metadata": {},
            "cell_type": "code",
            "source": "prompt = 'What...is the airspeed velocity of an unladen swallow?\\n' \nspeed = int(input(prompt))",
            "execution_count": 46,
            "outputs": [
                {
                    "output_type": "stream",
                    "name": "stdout",
                    "text": "What...is the airspeed velocity of an unladen swallow?\n42\n"
                }
            ]
        },
        {
            "metadata": {},
            "cell_type": "markdown",
            "source": "### ASSIGNMENT"
        },
        {
            "metadata": {},
            "cell_type": "markdown",
            "source": "### 1"
        },
        {
            "metadata": {},
            "cell_type": "code",
            "source": "import time \nx = time.time()\nx",
            "execution_count": 150,
            "outputs": [
                {
                    "output_type": "execute_result",
                    "execution_count": 150,
                    "data": {
                        "text/plain": "1588452685.930331"
                    },
                    "metadata": {}
                }
            ]
        },
        {
            "metadata": {},
            "cell_type": "code",
            "source": "x2_days = x/(24*60*60)\nx2_days",
            "execution_count": 151,
            "outputs": [
                {
                    "output_type": "execute_result",
                    "execution_count": 151,
                    "data": {
                        "text/plain": "18384.86905011957"
                    },
                    "metadata": {}
                }
            ]
        },
        {
            "metadata": {},
            "cell_type": "code",
            "source": "x3_days = int(x2_days) + int(x2_days%365)\nx3_days",
            "execution_count": 152,
            "outputs": [
                {
                    "output_type": "execute_result",
                    "execution_count": 152,
                    "data": {
                        "text/plain": "18518"
                    },
                    "metadata": {}
                }
            ]
        },
        {
            "metadata": {},
            "cell_type": "code",
            "source": "x4_day = (x2_days%365)%int(x2_days%365)\nx4_day",
            "execution_count": 153,
            "outputs": [
                {
                    "output_type": "execute_result",
                    "execution_count": 153,
                    "data": {
                        "text/plain": "0.869050119570602"
                    },
                    "metadata": {}
                }
            ]
        },
        {
            "metadata": {},
            "cell_type": "code",
            "source": "x5_hour = x4_day*24\nx5_hour",
            "execution_count": 154,
            "outputs": [
                {
                    "output_type": "execute_result",
                    "execution_count": 154,
                    "data": {
                        "text/plain": "20.857202869694447"
                    },
                    "metadata": {}
                }
            ]
        },
        {
            "metadata": {},
            "cell_type": "code",
            "source": "x6_minute = x5_hour%(int(x5_hour))\nx6_minute",
            "execution_count": 155,
            "outputs": [
                {
                    "output_type": "execute_result",
                    "execution_count": 155,
                    "data": {
                        "text/plain": "0.8572028696944471"
                    },
                    "metadata": {}
                }
            ]
        },
        {
            "metadata": {},
            "cell_type": "code",
            "source": "x7_minute = x6_minute*60\nx7_minute",
            "execution_count": 156,
            "outputs": [
                {
                    "output_type": "execute_result",
                    "execution_count": 156,
                    "data": {
                        "text/plain": "51.43217218166683"
                    },
                    "metadata": {}
                }
            ]
        },
        {
            "metadata": {},
            "cell_type": "code",
            "source": "x8_second= x7_minute%(int(x7_minute))\nx8_second",
            "execution_count": 157,
            "outputs": [
                {
                    "output_type": "execute_result",
                    "execution_count": 157,
                    "data": {
                        "text/plain": "0.4321721816668287"
                    },
                    "metadata": {}
                }
            ]
        },
        {
            "metadata": {},
            "cell_type": "code",
            "source": "x9_second = x8_second*60\nx9_second",
            "execution_count": 158,
            "outputs": [
                {
                    "output_type": "execute_result",
                    "execution_count": 158,
                    "data": {
                        "text/plain": "25.93033090000972"
                    },
                    "metadata": {}
                }
            ]
        },
        {
            "metadata": {},
            "cell_type": "code",
            "source": "print(\"The time is\", int(x5_hour), \"hours and\", int(x7_minute),\"minutes and\",int(x9_second), \"seconds. It is\", x3_days, \"days since epoch\")",
            "execution_count": 159,
            "outputs": [
                {
                    "output_type": "stream",
                    "text": "The time is 20 hours and 51 minutes and 25 seconds. It is 18518 days since epoch\n",
                    "name": "stdout"
                }
            ]
        },
        {
            "metadata": {},
            "cell_type": "markdown",
            "source": "#### 2"
        },
        {
            "metadata": {},
            "cell_type": "code",
            "source": "def check_fermat(a,b,c,n):\n    if (n>2 and (a**n)+(b**n)==(c**n)):\n        print(\"Holy Smokes, Fermat was wrong!\")\n    else:\n        print(\"No, that doesn't work\")\nfermat(3,4,5,2)",
            "execution_count": 169,
            "outputs": [
                {
                    "output_type": "stream",
                    "text": "No, that doesn't work\n",
                    "name": "stdout"
                }
            ]
        },
        {
            "metadata": {},
            "cell_type": "code",
            "source": "def fermat2():\n    a = int(input('What is a? '))\n    b = int(input('What is b? '))\n    c = int(input('What is c? '))\n    n = int(input('What is n? '))\n    check_fermat(a,b,c,n)\nfermat2()",
            "execution_count": 170,
            "outputs": [
                {
                    "output_type": "stream",
                    "name": "stdout",
                    "text": "What is a? 10\nWhat is b? 20\nWhat is c? 30\nWhat is n? 4\nNo, that doesn't work\n"
                }
            ]
        },
        {
            "metadata": {},
            "cell_type": "markdown",
            "source": "### 3"
        },
        {
            "metadata": {},
            "cell_type": "code",
            "source": "def is_triangle(a,b,c):\n    if (a <= b + c) and (b <= a + c) and (c <= a + b):\n        print('Yes!')\n    else:\n        print('No!')\nis_triangle(7,8,9)",
            "execution_count": 171,
            "outputs": [
                {
                    "output_type": "stream",
                    "text": "Yes!\n",
                    "name": "stdout"
                }
            ]
        },
        {
            "metadata": {},
            "cell_type": "code",
            "source": "def tri():\n    a = int(input('What is a? '))\n    b = int(input('What is b? '))\n    c = int(input('What is c? '))\n    is_triangle(a,b,c)\ntri()",
            "execution_count": 173,
            "outputs": [
                {
                    "output_type": "stream",
                    "name": "stdout",
                    "text": "What is a? 2\nWhat is b? 3\nWhat is c? 5\nYes!\n"
                }
            ]
        },
        {
            "metadata": {},
            "cell_type": "markdown",
            "source": "### 4"
        },
        {
            "metadata": {},
            "cell_type": "code",
            "source": "def recurse(n, s): \n    if n == 0: \n        print(s) \n    else:\n        recurse(n-1, n+s)\nrecurse(3,0)",
            "execution_count": 174,
            "outputs": [
                {
                    "output_type": "stream",
                    "text": "6\n",
                    "name": "stdout"
                }
            ]
        },
        {
            "metadata": {},
            "cell_type": "code",
            "source": "recurse(-1,0) ## results in maximum recursion depth exceeded in comparison",
            "execution_count": 176,
            "outputs": [
                {
                    "output_type": "error",
                    "ename": "RecursionError",
                    "evalue": "maximum recursion depth exceeded in comparison",
                    "traceback": [
                        "\u001b[0;31m---------------------------------------------------------------------------\u001b[0m",
                        "\u001b[0;31mRecursionError\u001b[0m                            Traceback (most recent call last)",
                        "\u001b[0;32m<ipython-input-176-a1e32d6d7f46>\u001b[0m in \u001b[0;36m<module>\u001b[0;34m\u001b[0m\n\u001b[0;32m----> 1\u001b[0;31m \u001b[0mrecurse\u001b[0m\u001b[0;34m(\u001b[0m\u001b[0;34m-\u001b[0m\u001b[0;36m1\u001b[0m\u001b[0;34m,\u001b[0m\u001b[0;36m0\u001b[0m\u001b[0;34m)\u001b[0m\u001b[0;34m\u001b[0m\u001b[0;34m\u001b[0m\u001b[0m\n\u001b[0m",
                        "\u001b[0;32m<ipython-input-174-07ab57bde568>\u001b[0m in \u001b[0;36mrecurse\u001b[0;34m(n, s)\u001b[0m\n\u001b[1;32m      3\u001b[0m         \u001b[0mprint\u001b[0m\u001b[0;34m(\u001b[0m\u001b[0ms\u001b[0m\u001b[0;34m)\u001b[0m\u001b[0;34m\u001b[0m\u001b[0;34m\u001b[0m\u001b[0m\n\u001b[1;32m      4\u001b[0m     \u001b[0;32melse\u001b[0m\u001b[0;34m:\u001b[0m\u001b[0;34m\u001b[0m\u001b[0;34m\u001b[0m\u001b[0m\n\u001b[0;32m----> 5\u001b[0;31m         \u001b[0mrecurse\u001b[0m\u001b[0;34m(\u001b[0m\u001b[0mn\u001b[0m\u001b[0;34m-\u001b[0m\u001b[0;36m1\u001b[0m\u001b[0;34m,\u001b[0m \u001b[0mn\u001b[0m\u001b[0;34m+\u001b[0m\u001b[0ms\u001b[0m\u001b[0;34m)\u001b[0m\u001b[0;34m\u001b[0m\u001b[0;34m\u001b[0m\u001b[0m\n\u001b[0m\u001b[1;32m      6\u001b[0m \u001b[0mrecurse\u001b[0m\u001b[0;34m(\u001b[0m\u001b[0;36m3\u001b[0m\u001b[0;34m,\u001b[0m\u001b[0;36m0\u001b[0m\u001b[0;34m)\u001b[0m\u001b[0;34m\u001b[0m\u001b[0;34m\u001b[0m\u001b[0m\n",
                        "... last 1 frames repeated, from the frame below ...\n",
                        "\u001b[0;32m<ipython-input-174-07ab57bde568>\u001b[0m in \u001b[0;36mrecurse\u001b[0;34m(n, s)\u001b[0m\n\u001b[1;32m      3\u001b[0m         \u001b[0mprint\u001b[0m\u001b[0;34m(\u001b[0m\u001b[0ms\u001b[0m\u001b[0;34m)\u001b[0m\u001b[0;34m\u001b[0m\u001b[0;34m\u001b[0m\u001b[0m\n\u001b[1;32m      4\u001b[0m     \u001b[0;32melse\u001b[0m\u001b[0;34m:\u001b[0m\u001b[0;34m\u001b[0m\u001b[0;34m\u001b[0m\u001b[0m\n\u001b[0;32m----> 5\u001b[0;31m         \u001b[0mrecurse\u001b[0m\u001b[0;34m(\u001b[0m\u001b[0mn\u001b[0m\u001b[0;34m-\u001b[0m\u001b[0;36m1\u001b[0m\u001b[0;34m,\u001b[0m \u001b[0mn\u001b[0m\u001b[0;34m+\u001b[0m\u001b[0ms\u001b[0m\u001b[0;34m)\u001b[0m\u001b[0;34m\u001b[0m\u001b[0;34m\u001b[0m\u001b[0m\n\u001b[0m\u001b[1;32m      6\u001b[0m \u001b[0mrecurse\u001b[0m\u001b[0;34m(\u001b[0m\u001b[0;36m3\u001b[0m\u001b[0;34m,\u001b[0m\u001b[0;36m0\u001b[0m\u001b[0;34m)\u001b[0m\u001b[0;34m\u001b[0m\u001b[0;34m\u001b[0m\u001b[0m\n",
                        "\u001b[0;31mRecursionError\u001b[0m: maximum recursion depth exceeded in comparison"
                    ]
                }
            ]
        },
        {
            "metadata": {},
            "cell_type": "code",
            "source": "",
            "execution_count": null,
            "outputs": []
        }
    ],
    "metadata": {
        "kernelspec": {
            "name": "python3",
            "display_name": "Python 3.6",
            "language": "python"
        },
        "language_info": {
            "name": "python",
            "version": "3.6.9",
            "mimetype": "text/x-python",
            "codemirror_mode": {
                "name": "ipython",
                "version": 3
            },
            "pygments_lexer": "ipython3",
            "nbconvert_exporter": "python",
            "file_extension": ".py"
        }
    },
    "nbformat": 4,
    "nbformat_minor": 1
}