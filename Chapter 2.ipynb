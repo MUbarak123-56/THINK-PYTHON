{
    "cells": [
        {
            "metadata": {},
            "cell_type": "markdown",
            "source": "# VARIABLES, EXPRESSIONS AND STATEMENTS"
        },
        {
            "metadata": {
                "collapsed": true
            },
            "cell_type": "markdown",
            "source": "#### ASSIGNMENT STATEMENTS"
        },
        {
            "metadata": {},
            "cell_type": "code",
            "source": "message = 'And this is your message'\nmessage",
            "execution_count": 1,
            "outputs": [
                {
                    "output_type": "execute_result",
                    "execution_count": 1,
                    "data": {
                        "text/plain": "'And this is your message'"
                    },
                    "metadata": {}
                }
            ]
        },
        {
            "metadata": {},
            "cell_type": "code",
            "source": "n = 17",
            "execution_count": 2,
            "outputs": []
        },
        {
            "metadata": {},
            "cell_type": "code",
            "source": "pi = 3.142",
            "execution_count": 3,
            "outputs": []
        },
        {
            "metadata": {},
            "cell_type": "markdown",
            "source": "#### ILLEGAL NAME ASSIGNMENTS"
        },
        {
            "metadata": {},
            "cell_type": "code",
            "source": "## Illegal name assignments\n## 75ttt = \"book\" ## starts with a number\n## more@ = 14 ## has a symbol in it \n## class = 15 ## one of python's keywords",
            "execution_count": 4,
            "outputs": []
        },
        {
            "metadata": {},
            "cell_type": "markdown",
            "source": "#### EXPRESSIONS"
        },
        {
            "metadata": {},
            "cell_type": "code",
            "source": "n + 25",
            "execution_count": 5,
            "outputs": [
                {
                    "output_type": "execute_result",
                    "execution_count": 5,
                    "data": {
                        "text/plain": "42"
                    },
                    "metadata": {}
                }
            ]
        },
        {
            "metadata": {},
            "cell_type": "code",
            "source": "print(n)",
            "execution_count": 6,
            "outputs": [
                {
                    "output_type": "stream",
                    "text": "17\n",
                    "name": "stdout"
                }
            ]
        },
        {
            "metadata": {},
            "cell_type": "code",
            "source": "print('I am', n)",
            "execution_count": 7,
            "outputs": [
                {
                    "output_type": "stream",
                    "text": "I am 17\n",
                    "name": "stdout"
                }
            ]
        },
        {
            "metadata": {},
            "cell_type": "markdown",
            "source": "#### MATHEMATICAL OPERATIONS"
        },
        {
            "metadata": {},
            "cell_type": "code",
            "source": "## Addition\nx = 3 + 9\nx",
            "execution_count": 8,
            "outputs": [
                {
                    "output_type": "execute_result",
                    "execution_count": 8,
                    "data": {
                        "text/plain": "12"
                    },
                    "metadata": {}
                }
            ]
        },
        {
            "metadata": {},
            "cell_type": "code",
            "source": "## Substraction\nx = 9 - 3\nx",
            "execution_count": 9,
            "outputs": [
                {
                    "output_type": "execute_result",
                    "execution_count": 9,
                    "data": {
                        "text/plain": "6"
                    },
                    "metadata": {}
                }
            ]
        },
        {
            "metadata": {},
            "cell_type": "code",
            "source": "## Multiplication\nx = 9 * 3\nx",
            "execution_count": 10,
            "outputs": [
                {
                    "output_type": "execute_result",
                    "execution_count": 10,
                    "data": {
                        "text/plain": "27"
                    },
                    "metadata": {}
                }
            ]
        },
        {
            "metadata": {},
            "cell_type": "code",
            "source": "## Division\nx = 9/3\nx",
            "execution_count": 11,
            "outputs": [
                {
                    "output_type": "execute_result",
                    "execution_count": 11,
                    "data": {
                        "text/plain": "3.0"
                    },
                    "metadata": {}
                }
            ]
        },
        {
            "metadata": {},
            "cell_type": "code",
            "source": "## Exponentiation\nx = 9**3\nx",
            "execution_count": 13,
            "outputs": [
                {
                    "output_type": "execute_result",
                    "execution_count": 13,
                    "data": {
                        "text/plain": "729"
                    },
                    "metadata": {}
                }
            ]
        },
        {
            "metadata": {},
            "cell_type": "code",
            "source": "## OTHER CALCULATIONS\n(1+1)**(5-2)",
            "execution_count": 16,
            "outputs": [
                {
                    "output_type": "execute_result",
                    "execution_count": 16,
                    "data": {
                        "text/plain": "8"
                    },
                    "metadata": {}
                }
            ]
        },
        {
            "metadata": {},
            "cell_type": "markdown",
            "source": "#### STRING OPERATIONS"
        },
        {
            "metadata": {},
            "cell_type": "code",
            "source": "first = 'Lebron'\nlast = 'James'\nfirst+last",
            "execution_count": 17,
            "outputs": [
                {
                    "output_type": "execute_result",
                    "execution_count": 17,
                    "data": {
                        "text/plain": "'LebronJames'"
                    },
                    "metadata": {}
                }
            ]
        },
        {
            "metadata": {},
            "cell_type": "code",
            "source": "first*3",
            "execution_count": 19,
            "outputs": [
                {
                    "output_type": "execute_result",
                    "execution_count": 19,
                    "data": {
                        "text/plain": "'LebronLebronLebron'"
                    },
                    "metadata": {}
                }
            ]
        },
        {
            "metadata": {},
            "cell_type": "markdown",
            "source": "#### ASSIGNMENT"
        },
        {
            "metadata": {},
            "cell_type": "code",
            "source": "r = 5\npi = 3.142\nv = (4/3)*pi*(r**3)\nv",
            "execution_count": 21,
            "outputs": [
                {
                    "output_type": "execute_result",
                    "execution_count": 21,
                    "data": {
                        "text/plain": "523.6666666666666"
                    },
                    "metadata": {}
                }
            ]
        },
        {
            "metadata": {},
            "cell_type": "code",
            "source": "book = 24.95\nn = 60\nTotal = n*(1-0.4)*book + 3 + (n-1)*0.75\nTotal",
            "execution_count": 23,
            "outputs": [
                {
                    "output_type": "execute_result",
                    "execution_count": 23,
                    "data": {
                        "text/plain": "945.4499999999999"
                    },
                    "metadata": {}
                }
            ]
        },
        {
            "metadata": {},
            "cell_type": "code",
            "source": "n1 = 8\nt1 = 15\nn2 = 7\nt2 = 12\ns1 = n1*60 + t1\ns2 = 3*(n2*60 + t2)\ns3 = n1*60 + t1\ns4 = s1 + s2 + s3",
            "execution_count": 26,
            "outputs": []
        },
        {
            "metadata": {},
            "cell_type": "code",
            "source": "m = s4/60",
            "execution_count": 27,
            "outputs": []
        },
        {
            "metadata": {},
            "cell_type": "code",
            "source": "nt = 6\ntt = 15\nprint('The time of return is:',nt,':',(tt + m),'am')",
            "execution_count": 31,
            "outputs": [
                {
                    "output_type": "stream",
                    "text": "The time of return is: 6 : 53.1 am\n",
                    "name": "stdout"
                }
            ]
        },
        {
            "metadata": {},
            "cell_type": "code",
            "source": "",
            "execution_count": null,
            "outputs": []
        }
    ],
    "metadata": {
        "kernelspec": {
            "name": "python3",
            "display_name": "Python 3.6",
            "language": "python"
        },
        "language_info": {
            "name": "python",
            "version": "3.6.9",
            "mimetype": "text/x-python",
            "codemirror_mode": {
                "name": "ipython",
                "version": 3
            },
            "pygments_lexer": "ipython3",
            "nbconvert_exporter": "python",
            "file_extension": ".py"
        }
    },
    "nbformat": 4,
    "nbformat_minor": 1
}