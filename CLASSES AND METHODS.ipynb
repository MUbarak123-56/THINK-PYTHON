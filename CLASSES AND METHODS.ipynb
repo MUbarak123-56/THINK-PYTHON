{
    "cells": [
        {
            "metadata": {
                "collapsed": true
            },
            "cell_type": "markdown",
            "source": "# CLASSES AND METHODS"
        },
        {
            "metadata": {},
            "cell_type": "markdown",
            "source": "### PRINTING OBJECTS"
        },
        {
            "metadata": {},
            "cell_type": "code",
            "source": "class Time: \n    \"\"\"Represents the time of day.\"\"\"",
            "execution_count": 1,
            "outputs": []
        },
        {
            "metadata": {},
            "cell_type": "code",
            "source": "def print_time(time): \n    print('%.2d:%.2d:%.2d' % (time.hour, time.minute, time.second)) ",
            "execution_count": 2,
            "outputs": []
        },
        {
            "metadata": {},
            "cell_type": "code",
            "source": "start = Time() \nstart.hour = 9 \nstart.minute = 45 \nstart.second = 0 \nprint_time(start) ",
            "execution_count": 3,
            "outputs": [
                {
                    "output_type": "stream",
                    "text": "09:45:00\n",
                    "name": "stdout"
                }
            ]
        },
        {
            "metadata": {},
            "cell_type": "code",
            "source": "class Time:  ## creating a method that is attached to a class\n    def print_time(time): \n        print('%.2d:%.2d:%.2d' % (time.hour, time.minute, time.second)) ",
            "execution_count": 4,
            "outputs": []
        },
        {
            "metadata": {},
            "cell_type": "code",
            "source": "Time.print_time(start)\n## Another aprroach is start.print_time()",
            "execution_count": 5,
            "outputs": [
                {
                    "output_type": "stream",
                    "text": "09:45:00\n",
                    "name": "stdout"
                }
            ]
        },
        {
            "metadata": {},
            "cell_type": "markdown",
            "source": "### ANOTHER EXAMPLE"
        },
        {
            "metadata": {},
            "cell_type": "code",
            "source": "def int_to_time(seconds):\n    time = Time() \n    minutes, time.second = divmod(seconds, 60) \n    time.hour, time.minute = divmod(minutes, 60) \n    return time",
            "execution_count": 6,
            "outputs": []
        },
        {
            "metadata": {},
            "cell_type": "code",
            "source": "class Time: \n    def print_time(self): \n        print('%.2d:%.2d:%.2d' % (self.hour, self.minute, self.second)) \n    def time_to_int(time): \n        minutes = time.hour * 60 + time.minute \n        seconds = minutes * 60 + time.second \n        return seconds\n    def increment(self, seconds): \n        seconds += Time.time_to_int(self)\n        return int_to_time(seconds) \n    def is_after(self, other): \n        return Time.time_to_int(self) > Time.time_to_int(other) ",
            "execution_count": 7,
            "outputs": []
        },
        {
            "metadata": {},
            "cell_type": "code",
            "source": "Time.print_time(start)",
            "execution_count": 8,
            "outputs": [
                {
                    "output_type": "stream",
                    "text": "09:45:00\n",
                    "name": "stdout"
                }
            ]
        },
        {
            "metadata": {},
            "cell_type": "code",
            "source": "end = Time.increment(start,1000)",
            "execution_count": 9,
            "outputs": []
        },
        {
            "metadata": {},
            "cell_type": "code",
            "source": "Time.print_time(end)",
            "execution_count": 10,
            "outputs": [
                {
                    "output_type": "stream",
                    "text": "10:01:40\n",
                    "name": "stdout"
                }
            ]
        },
        {
            "metadata": {},
            "cell_type": "code",
            "source": "Time.is_after(end,start)",
            "execution_count": 11,
            "outputs": [
                {
                    "output_type": "execute_result",
                    "execution_count": 11,
                    "data": {
                        "text/plain": "True"
                    },
                    "metadata": {}
                }
            ]
        },
        {
            "metadata": {},
            "cell_type": "markdown",
            "source": "### THE INIT METHOD"
        },
        {
            "metadata": {},
            "cell_type": "code",
            "source": "class Time: \n    def __init__(self, hour=0, minute=0, second=0): ## an initialization method used to set the variables at certain values\n        self.hour = hour \n        self.minute = minute \n        self.second = second\n    def print_time(self): \n        print('%.2d:%.2d:%.2d' % (self.hour, self.minute, self.second)) \n    def time_to_int(time): \n        minutes = time.hour * 60 + time.minute \n        seconds = minutes * 60 + time.second \n        return seconds\n    def increment(self, seconds): \n        seconds += Time.time_to_int(self)\n        return int_to_time(seconds) \n    def is_after(self, other): \n        return Time.time_to_int(self) > Time.time_to_int(other) ",
            "execution_count": 12,
            "outputs": []
        },
        {
            "metadata": {},
            "cell_type": "code",
            "source": "time = Time()\nTime.print_time(time)",
            "execution_count": 13,
            "outputs": [
                {
                    "output_type": "stream",
                    "text": "00:00:00\n",
                    "name": "stdout"
                }
            ]
        },
        {
            "metadata": {},
            "cell_type": "code",
            "source": "time = Time(9)\nTime.print_time(time)",
            "execution_count": 14,
            "outputs": [
                {
                    "output_type": "stream",
                    "text": "09:00:00\n",
                    "name": "stdout"
                }
            ]
        },
        {
            "metadata": {},
            "cell_type": "code",
            "source": "time = Time(9, 45)\nTime.print_time(time)",
            "execution_count": 15,
            "outputs": [
                {
                    "output_type": "stream",
                    "text": "09:45:00\n",
                    "name": "stdout"
                }
            ]
        },
        {
            "metadata": {},
            "cell_type": "code",
            "source": "class Point:\n    def __init__(self, x = 0, y = 0):\n        self.x = x\n        self.y = y",
            "execution_count": 16,
            "outputs": []
        },
        {
            "metadata": {},
            "cell_type": "markdown",
            "source": "### THE __STR__ METHOD"
        },
        {
            "metadata": {},
            "cell_type": "code",
            "source": "class Time: \n    def __init__(self, hour=0, minute=0, second=0): ## an initialization method used to set the variables at certain values\n        self.hour = hour \n        self.minute = minute \n        self.second = second\n    def time_to_int(time): \n        minutes = time.hour * 60 + time.minute \n        seconds = minutes * 60 + time.second \n        return seconds\n    def increment(self, seconds): \n        seconds += Time.time_to_int(self)\n        return int_to_time(seconds) \n    def is_after(self, other): \n        return Time.time_to_int(self) > Time.time_to_int(other) \n    def __str__(self): ## It is like an initialization method that returns a string\n        return '%.2d:%.2d:%.2d' % (self.hour, self.minute, self.second) ",
            "execution_count": 17,
            "outputs": []
        },
        {
            "metadata": {},
            "cell_type": "code",
            "source": "time = Time(9,45)\nprint(time) ## goes directly to __str__",
            "execution_count": 18,
            "outputs": [
                {
                    "output_type": "stream",
                    "text": "09:45:00\n",
                    "name": "stdout"
                }
            ]
        },
        {
            "metadata": {},
            "cell_type": "markdown",
            "source": "### OPERATOR OVERLOADING"
        },
        {
            "metadata": {},
            "cell_type": "code",
            "source": "class Time: \n    def __init__(self, hour=0, minute=0, second=0): ## an initialization method used to set the variables at certain values\n        self.hour = hour \n        self.minute = minute \n        self.second = second\n    def time_to_int(time): \n        minutes = time.hour * 60 + time.minute \n        seconds = minutes * 60 + time.second \n        return seconds\n    def increment(self, seconds): \n        seconds += Time.time_to_int(self)\n        return int_to_time(seconds) \n    def is_after(self, other): \n        return Time.time_to_int(self) > Time.time_to_int(other) \n    def __str__(self): ## It is like an initialization method that returns a string\n        return '%.2d:%.2d:%.2d' % (self.hour, self.minute, self.second) \n    def __add__(self, other): ## It is a method that is designed for addition\n        seconds = self.time_to_int() + other.time_to_int() \n        return int_to_time(seconds) ",
            "execution_count": 19,
            "outputs": []
        },
        {
            "metadata": {},
            "cell_type": "code",
            "source": "start = Time(9, 45)",
            "execution_count": 20,
            "outputs": []
        },
        {
            "metadata": {},
            "cell_type": "code",
            "source": "duration = Time(1, 35)",
            "execution_count": 21,
            "outputs": []
        },
        {
            "metadata": {},
            "cell_type": "code",
            "source": "print(start + duration) ## It calls the __add__ method in the class ",
            "execution_count": 22,
            "outputs": [
                {
                    "output_type": "stream",
                    "text": "11:20:00\n",
                    "name": "stdout"
                }
            ]
        },
        {
            "metadata": {},
            "cell_type": "markdown",
            "source": "### TYPE-BASED DISPATCH"
        },
        {
            "metadata": {},
            "cell_type": "code",
            "source": "class Time: \n    def __init__(self, hour=0, minute=0, second=0): ## an initialization method used to set the variables at certain values\n        self.hour = hour \n        self.minute = minute \n        self.second = second\n    def time_to_int(time): \n        minutes = time.hour * 60 + time.minute \n        seconds = minutes * 60 + time.second \n        return seconds\n    def is_after(self, other): \n        return Time.time_to_int(self) > Time.time_to_int(other) \n    def __str__(self): ## It is like an initialization method that returns a string\n        return '%.2d:%.2d:%.2d' % (self.hour, self.minute, self.second) \n    def __add__(self, other): ## It is a method that is designed for addition\n        if isinstance(other, Time): \n            return Time.add_time(self,other) \n        else: \n            return Time.increment(self,other)\n    def add_time(self, other): \n        seconds = Time.time_to_int(self) + Time.time_to_int(other) \n        return int_to_time(seconds)\n    def increment(self, seconds): \n        seconds += Time.time_to_int(self)\n        return int_to_time(seconds) \n    def __radd__(self, other): ## This is a method that works like __add__ but is called adds from the right side\n        return Time.__add__(self,other)",
            "execution_count": 23,
            "outputs": []
        },
        {
            "metadata": {},
            "cell_type": "code",
            "source": "start = Time(9, 45) \nduration = Time(1, 35) ",
            "execution_count": 24,
            "outputs": []
        },
        {
            "metadata": {},
            "cell_type": "code",
            "source": "print(start + duration)",
            "execution_count": 25,
            "outputs": [
                {
                    "output_type": "stream",
                    "text": "11:20:00\n",
                    "name": "stdout"
                }
            ]
        },
        {
            "metadata": {},
            "cell_type": "code",
            "source": "print(start + 1337) ",
            "execution_count": 26,
            "outputs": [
                {
                    "output_type": "stream",
                    "text": "10:07:17\n",
                    "name": "stdout"
                }
            ]
        },
        {
            "metadata": {},
            "cell_type": "code",
            "source": "print(1337 + start)",
            "execution_count": 27,
            "outputs": [
                {
                    "output_type": "stream",
                    "text": "10:07:17\n",
                    "name": "stdout"
                }
            ]
        },
        {
            "metadata": {},
            "cell_type": "code",
            "source": "class Point:\n    def __init__(self, x = 0, y = 0):\n        self.x = x\n        self.y = y\n    def __add__(self,other):\n        if isinstance(other, Point): \n            return Point.add_point(self,other) \n        else: \n            return self.x + other[0], self.y + other[1]\n    def add_point(self,other):\n        x = self.x + other.x\n        y = self.y + other.y",
            "execution_count": 28,
            "outputs": []
        },
        {
            "metadata": {},
            "cell_type": "markdown",
            "source": "### POLYMORPHISM"
        },
        {
            "metadata": {},
            "cell_type": "code",
            "source": "## FUNCTIONS THAT USE SEVERAL TYPES ARE POLYMORPHIC\nt1 = Time(7, 43) \nt2 = Time(7, 41) \nt3 = Time(7, 37) \ntotal = sum([t1, t2, t3]) \nprint(total) ",
            "execution_count": 29,
            "outputs": [
                {
                    "output_type": "stream",
                    "text": "23:01:00\n",
                    "name": "stdout"
                }
            ]
        },
        {
            "metadata": {},
            "cell_type": "markdown",
            "source": "### ASSIGNMENT"
        },
        {
            "metadata": {},
            "cell_type": "code",
            "source": "def int_to_time(seconds):\n    \"\"\"Makes a new Time object.\n    seconds: int seconds since midnight.\n    \"\"\"\n    return Time(0, 0, seconds)",
            "execution_count": 30,
            "outputs": []
        },
        {
            "metadata": {},
            "cell_type": "code",
            "source": "class Time:\n    def __init__(self, hour=0, minute=0, second=0):\n        \"\"\"Initializes a time object.\n        hour: int\n        minute: int\n        second: int or float\n        \"\"\"\n        minutes = hour * 60 + minute\n        self.seconds = minutes * 60 + second\n\n    def __str__(self):\n        \"\"\"Returns a string representation of the time.\"\"\"\n        minutes, second = divmod(self.seconds, 60)\n        hour, minute = divmod(minutes, 60)\n        return '%.2d:%.2d:%.2d' % (hour, minute, second)\n\n    def print_time(self):\n        \"\"\"Prints a string representation of the time.\"\"\"\n        print(str(self))\n\n    def time_to_int(self):\n        \"\"\"Computes the number of seconds since midnight.\"\"\"\n        return self.seconds\n\n    def is_after(self, other):\n        \"\"\"Returns True if t1 is after t2; false otherwise.\"\"\"\n        return self.seconds > other.seconds\n\n    def __add__(self, other):\n        \"\"\"Adds two Time objects or a Time object and a number.\n        other: Time object or number of seconds\n        \"\"\"\n        if isinstance(other, Time):\n            return self.add_time(other)\n        else:\n            return self.increment(other)\n\n    def __radd__(self, other):\n        \"\"\"Adds two Time objects or a Time object and a number.\"\"\"\n        return self.__add__(other)\n\n    def add_time(self, other):\n        \"\"\"Adds two time objects.\"\"\"\n        assert self.is_valid() and other.is_valid()\n        seconds = self.seconds + other.seconds\n        return int_to_time(seconds)\n\n    def increment(self, seconds):\n        \"\"\"Returns a new Time that is the sum of this time and seconds.\"\"\"\n        seconds += self.seconds\n        return int_to_time(seconds)\n\n    def is_valid(self):\n        \"\"\"Checks whether a Time object satisfies the invariants.\"\"\"\n        return self.seconds >= 0 and self.seconds < 24*60*60\n",
            "execution_count": 31,
            "outputs": []
        },
        {
            "metadata": {},
            "cell_type": "code",
            "source": "start = Time(9,45,0)\nstart.print_time()",
            "execution_count": 32,
            "outputs": [
                {
                    "output_type": "stream",
                    "text": "09:45:00\n",
                    "name": "stdout"
                }
            ]
        },
        {
            "metadata": {},
            "cell_type": "code",
            "source": "end = start.increment(1337)\n#end = start.increment(1337, 460)\nend.print_time()",
            "execution_count": 33,
            "outputs": [
                {
                    "output_type": "stream",
                    "text": "10:07:17\n",
                    "name": "stdout"
                }
            ]
        },
        {
            "metadata": {},
            "cell_type": "code",
            "source": "print('Is end after start?')\nprint(Time.is_after(end,start))",
            "execution_count": 34,
            "outputs": [
                {
                    "output_type": "stream",
                    "text": "Is end after start?\nTrue\n",
                    "name": "stdout"
                }
            ]
        },
        {
            "metadata": {},
            "cell_type": "code",
            "source": "print('Using __str__')\nprint(start)",
            "execution_count": 35,
            "outputs": [
                {
                    "output_type": "stream",
                    "text": "Using __str__\n09:45:00\n",
                    "name": "stdout"
                }
            ]
        },
        {
            "metadata": {},
            "cell_type": "code",
            "source": "start = Time(9,45,0)\nduration = Time(1,35,0)",
            "execution_count": 36,
            "outputs": []
        },
        {
            "metadata": {},
            "cell_type": "code",
            "source": "print(start + duration)",
            "execution_count": 37,
            "outputs": [
                {
                    "output_type": "stream",
                    "text": "11:20:00\n",
                    "name": "stdout"
                }
            ]
        },
        {
            "metadata": {},
            "cell_type": "code",
            "source": "print(start + 1337)",
            "execution_count": 38,
            "outputs": [
                {
                    "output_type": "stream",
                    "text": "10:07:17\n",
                    "name": "stdout"
                }
            ]
        },
        {
            "metadata": {},
            "cell_type": "code",
            "source": "print(1337 + start)",
            "execution_count": 39,
            "outputs": [
                {
                    "output_type": "stream",
                    "text": "10:07:17\n",
                    "name": "stdout"
                }
            ]
        },
        {
            "metadata": {},
            "cell_type": "code",
            "source": "t1 = Time(7, 43)\nt2 = Time(7, 41)\nt3 = Time(7, 37)\ntotal = sum([t1, t2, t3])\nprint(total)",
            "execution_count": 40,
            "outputs": [
                {
                    "output_type": "stream",
                    "text": "23:01:00\n",
                    "name": "stdout"
                }
            ]
        },
        {
            "metadata": {},
            "cell_type": "code",
            "source": "",
            "execution_count": null,
            "outputs": []
        }
    ],
    "metadata": {
        "kernelspec": {
            "name": "python3",
            "display_name": "Python 3.6",
            "language": "python"
        },
        "language_info": {
            "name": "python",
            "version": "3.6.9",
            "mimetype": "text/x-python",
            "codemirror_mode": {
                "name": "ipython",
                "version": 3
            },
            "pygments_lexer": "ipython3",
            "nbconvert_exporter": "python",
            "file_extension": ".py"
        }
    },
    "nbformat": 4,
    "nbformat_minor": 1
}